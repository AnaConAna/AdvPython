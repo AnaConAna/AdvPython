{
  "nbformat": 4,
  "nbformat_minor": 0,
  "metadata": {
    "colab": {
      "provenance": [],
      "collapsed_sections": []
    },
    "kernelspec": {
      "name": "python3",
      "display_name": "Python 3"
    },
    "language_info": {
      "name": "python"
    }
  },
  "cells": [
    {
      "cell_type": "markdown",
      "source": [
        "## Numpy"
      ],
      "metadata": {
        "id": "W9WNVv9iUm0X"
      }
    },
    {
      "cell_type": "code",
      "source": [
        "import numpy as np"
      ],
      "metadata": {
        "id": "sxi83B8qUpv5"
      },
      "execution_count": 2,
      "outputs": []
    },
    {
      "cell_type": "markdown",
      "source": [
        "1. Create an `ndarray` of shape (3,5). All values of the array are 100."
      ],
      "metadata": {
        "id": "YwyT3EQxVCgm"
      }
    },
    {
      "cell_type": "code",
      "source": [
        "x = np.full((3, 5), 100)\n",
        "x"
      ],
      "metadata": {
        "id": "bdsABaxNUqVr",
        "colab": {
          "base_uri": "https://localhost:8080/"
        },
        "outputId": "743cdedd-0ca5-46fb-b94d-2b7cc80e7c63"
      },
      "execution_count": 14,
      "outputs": [
        {
          "output_type": "execute_result",
          "data": {
            "text/plain": [
              "array([[100, 100, 100, 100, 100],\n",
              "       [100, 100, 100, 100, 100],\n",
              "       [100, 100, 100, 100, 100]])"
            ]
          },
          "metadata": {},
          "execution_count": 14
        }
      ]
    },
    {
      "cell_type": "markdown",
      "source": [
        "2. Create a border of zeros that surround the result in Question 1, so that the output is of shape (5,7), the outside values are 0 and the inside values are 100. "
      ],
      "metadata": {
        "id": "iYTCppLJVU3O"
      }
    },
    {
      "cell_type": "code",
      "source": [
        "np.pad(x, 1, 'constant', constant_values=0)"
      ],
      "metadata": {
        "id": "zYVIlzrrUqYY",
        "colab": {
          "base_uri": "https://localhost:8080/"
        },
        "outputId": "5b75fd30-2b72-4f6a-d492-3cd47628d07c"
      },
      "execution_count": 15,
      "outputs": [
        {
          "output_type": "execute_result",
          "data": {
            "text/plain": [
              "array([[  0,   0,   0,   0,   0,   0,   0],\n",
              "       [  0, 100, 100, 100, 100, 100,   0],\n",
              "       [  0, 100, 100, 100, 100, 100,   0],\n",
              "       [  0, 100, 100, 100, 100, 100,   0],\n",
              "       [  0,   0,   0,   0,   0,   0,   0]])"
            ]
          },
          "metadata": {},
          "execution_count": 15
        }
      ]
    },
    {
      "cell_type": "markdown",
      "source": [
        "3. Create a 5x5 matrix with values 1,2,3,4 just below the diagonal.\n"
      ],
      "metadata": {
        "id": "YDJndwA2V1Af"
      }
    },
    {
      "cell_type": "code",
      "source": [
        "np.diag(np.arange(1, 5), k=-1)"
      ],
      "metadata": {
        "id": "MGK4UJutUqd3",
        "colab": {
          "base_uri": "https://localhost:8080/"
        },
        "outputId": "59676c68-cc80-49f1-db92-a2b3a1544095"
      },
      "execution_count": 11,
      "outputs": [
        {
          "output_type": "execute_result",
          "data": {
            "text/plain": [
              "array([[0, 0, 0, 0, 0],\n",
              "       [1, 0, 0, 0, 0],\n",
              "       [0, 2, 0, 0, 0],\n",
              "       [0, 0, 3, 0, 0],\n",
              "       [0, 0, 0, 4, 0]])"
            ]
          },
          "metadata": {},
          "execution_count": 11
        }
      ]
    },
    {
      "cell_type": "markdown",
      "source": [
        "4. Create a checkerboard 8x8 matrix using the tile function"
      ],
      "metadata": {
        "id": "NYrOwCPzWMeD"
      }
    },
    {
      "cell_type": "code",
      "source": [
        "x = np.array([[1, 0], [0, 1]])\n",
        "np.tile(x, (4, 4))"
      ],
      "metadata": {
        "id": "3pEOA810WL07",
        "colab": {
          "base_uri": "https://localhost:8080/"
        },
        "outputId": "db44c79c-e21e-4286-8c12-382197d2bbe3"
      },
      "execution_count": 9,
      "outputs": [
        {
          "output_type": "execute_result",
          "data": {
            "text/plain": [
              "array([[1, 0, 1, 0, 1, 0, 1, 0],\n",
              "       [0, 1, 0, 1, 0, 1, 0, 1],\n",
              "       [1, 0, 1, 0, 1, 0, 1, 0],\n",
              "       [0, 1, 0, 1, 0, 1, 0, 1],\n",
              "       [1, 0, 1, 0, 1, 0, 1, 0],\n",
              "       [0, 1, 0, 1, 0, 1, 0, 1],\n",
              "       [1, 0, 1, 0, 1, 0, 1, 0],\n",
              "       [0, 1, 0, 1, 0, 1, 0, 1]])"
            ]
          },
          "metadata": {},
          "execution_count": 9
        }
      ]
    },
    {
      "cell_type": "markdown",
      "source": [
        "5. Sort a 2d-array by the nth column"
      ],
      "metadata": {
        "id": "1HNTk70SWHjV"
      }
    },
    {
      "cell_type": "code",
      "source": [
        "x = np.random.randn(3,4) \n",
        "print(x)"
      ],
      "metadata": {
        "id": "9cxSyDIkUqgi",
        "colab": {
          "base_uri": "https://localhost:8080/"
        },
        "outputId": "fc3f474c-56e9-4a3d-bab6-236a2c84422c"
      },
      "execution_count": 29,
      "outputs": [
        {
          "output_type": "stream",
          "name": "stdout",
          "text": [
            "[[-0.4876548  -2.06478948  0.05583286 -0.88847236]\n",
            " [ 0.07140234 -0.74709627  1.55159228  0.38886768]\n",
            " [-0.2049267  -0.21682552  0.04224953 -0.02947343]]\n"
          ]
        }
      ]
    },
    {
      "cell_type": "code",
      "source": [
        "n = 3\n",
        "x[x[:, n].argsort()]"
      ],
      "metadata": {
        "colab": {
          "base_uri": "https://localhost:8080/"
        },
        "id": "S6OEtRD5C40I",
        "outputId": "07bef7b0-f2bf-4805-caba-33c2b35fff6c"
      },
      "execution_count": 30,
      "outputs": [
        {
          "output_type": "execute_result",
          "data": {
            "text/plain": [
              "array([[-0.4876548 , -2.06478948,  0.05583286, -0.88847236],\n",
              "       [-0.2049267 , -0.21682552,  0.04224953, -0.02947343],\n",
              "       [ 0.07140234, -0.74709627,  1.55159228,  0.38886768]])"
            ]
          },
          "metadata": {},
          "execution_count": 30
        }
      ]
    },
    {
      "cell_type": "markdown",
      "source": [
        "6. Compute a matrix rank"
      ],
      "metadata": {
        "id": "z__MABZ1W19Z"
      }
    },
    {
      "cell_type": "code",
      "source": [
        "np.linalg.matrix_rank(x)"
      ],
      "metadata": {
        "id": "EKcIavS4UqjG",
        "colab": {
          "base_uri": "https://localhost:8080/"
        },
        "outputId": "5188a26e-b5c6-4182-ce66-6fe5c1aaeb1c"
      },
      "execution_count": 31,
      "outputs": [
        {
          "output_type": "execute_result",
          "data": {
            "text/plain": [
              "3"
            ]
          },
          "metadata": {},
          "execution_count": 31
        }
      ]
    },
    {
      "cell_type": "markdown",
      "source": [
        "7. Consider an array of dimension (5,5,3), how to mulitply it by an array with dimensions (5,5)?"
      ],
      "metadata": {
        "id": "Edizw3vbXOC6"
      }
    },
    {
      "cell_type": "code",
      "source": [
        "x1 = np.arange(75).reshape((5,5,3))\n",
        "x2 = np.arange(25).reshape((5,5))\n",
        "\n",
        "x1 * x2[:, :, np.newaxis] #"
      ],
      "metadata": {
        "id": "JITZPgiyXhHJ",
        "colab": {
          "base_uri": "https://localhost:8080/"
        },
        "outputId": "95501b38-12bd-4f39-8e67-2bd064d8eb6d"
      },
      "execution_count": 33,
      "outputs": [
        {
          "output_type": "execute_result",
          "data": {
            "text/plain": [
              "array([[[   0,    0,    0],\n",
              "        [   3,    4,    5],\n",
              "        [  12,   14,   16],\n",
              "        [  27,   30,   33],\n",
              "        [  48,   52,   56]],\n",
              "\n",
              "       [[  75,   80,   85],\n",
              "        [ 108,  114,  120],\n",
              "        [ 147,  154,  161],\n",
              "        [ 192,  200,  208],\n",
              "        [ 243,  252,  261]],\n",
              "\n",
              "       [[ 300,  310,  320],\n",
              "        [ 363,  374,  385],\n",
              "        [ 432,  444,  456],\n",
              "        [ 507,  520,  533],\n",
              "        [ 588,  602,  616]],\n",
              "\n",
              "       [[ 675,  690,  705],\n",
              "        [ 768,  784,  800],\n",
              "        [ 867,  884,  901],\n",
              "        [ 972,  990, 1008],\n",
              "        [1083, 1102, 1121]],\n",
              "\n",
              "       [[1200, 1220, 1240],\n",
              "        [1323, 1344, 1365],\n",
              "        [1452, 1474, 1496],\n",
              "        [1587, 1610, 1633],\n",
              "        [1728, 1752, 1776]]])"
            ]
          },
          "metadata": {},
          "execution_count": 33
        }
      ]
    },
    {
      "cell_type": "markdown",
      "source": [
        "8. Consider a 16x16 array, how to get the block-sum (block size is 4x4)?"
      ],
      "metadata": {
        "id": "toN4wwRfXhka"
      }
    },
    {
      "cell_type": "code",
      "source": [
        "x = np.arange(256).reshape((16,16))\n",
        "x.reshape((4,4,4,4)).sum(axis=(1,3)) #"
      ],
      "metadata": {
        "id": "ZxEeQA4DXh5W",
        "colab": {
          "base_uri": "https://localhost:8080/"
        },
        "outputId": "7d397c25-5274-4613-ca5b-a88e3397ae73"
      },
      "execution_count": 36,
      "outputs": [
        {
          "output_type": "execute_result",
          "data": {
            "text/plain": [
              "array([[ 408,  472,  536,  600],\n",
              "       [1432, 1496, 1560, 1624],\n",
              "       [2456, 2520, 2584, 2648],\n",
              "       [3480, 3544, 3608, 3672]])"
            ]
          },
          "metadata": {},
          "execution_count": 36
        }
      ]
    },
    {
      "cell_type": "markdown",
      "source": [
        "9. Get the n largest values of an array"
      ],
      "metadata": {
        "id": "L15y9mOiXirL"
      }
    },
    {
      "cell_type": "code",
      "source": [
        "x = np.random.randn(6)\n",
        "print(x)\n",
        "\n",
        "n = 2\n",
        "x[x.argsort()[-n:]]"
      ],
      "metadata": {
        "id": "-tp-G1PpXi-3",
        "colab": {
          "base_uri": "https://localhost:8080/"
        },
        "outputId": "7e1b7cfd-7bc2-4e17-cefe-b09e47e3acb9"
      },
      "execution_count": 38,
      "outputs": [
        {
          "output_type": "stream",
          "name": "stdout",
          "text": [
            "[ 0.310176    2.02598317  1.73482772  0.91096793 -0.1068205   0.46896433]\n"
          ]
        },
        {
          "output_type": "execute_result",
          "data": {
            "text/plain": [
              "array([1.73482772, 2.02598317])"
            ]
          },
          "metadata": {},
          "execution_count": 38
        }
      ]
    },
    {
      "cell_type": "markdown",
      "source": [
        "10. Implement the Game of Life using numpy arrays"
      ],
      "metadata": {
        "id": "_cI2xR4mXjJd"
      }
    },
    {
      "cell_type": "code",
      "source": [
        "#"
      ],
      "metadata": {
        "id": "2PQX2EnnUqlr"
      },
      "execution_count": 42,
      "outputs": []
    },
    {
      "cell_type": "markdown",
      "source": [
        "Check https://github.com/rougier/numpy-100/blob/master/100_Numpy_exercises.ipynb for more Numpy exercises."
      ],
      "metadata": {
        "id": "JjTspHcYYy1r"
      }
    },
    {
      "cell_type": "markdown",
      "source": [
        "## Pandas"
      ],
      "metadata": {
        "id": "duxYLMSbUrIy"
      }
    },
    {
      "cell_type": "code",
      "source": [
        "import pandas as pd\n",
        "import seaborn as sb"
      ],
      "metadata": {
        "id": "X3JdMd73UsfF"
      },
      "execution_count": 39,
      "outputs": []
    },
    {
      "cell_type": "markdown",
      "source": [
        "1. Using NumPy, create a Pandas DataFrame with five rows and three columns"
      ],
      "metadata": {
        "id": "gTqmqHeXYpA9"
      }
    },
    {
      "cell_type": "code",
      "source": [
        "pd.DataFrame(np.arange(15).reshape(5,3))"
      ],
      "metadata": {
        "id": "5VtgfgDSUtDq",
        "colab": {
          "base_uri": "https://localhost:8080/",
          "height": 206
        },
        "outputId": "542f3054-de26-449c-bfb9-dc85485487e3"
      },
      "execution_count": 40,
      "outputs": [
        {
          "output_type": "execute_result",
          "data": {
            "text/plain": [
              "    0   1   2\n",
              "0   0   1   2\n",
              "1   3   4   5\n",
              "2   6   7   8\n",
              "3   9  10  11\n",
              "4  12  13  14"
            ],
            "text/html": [
              "\n",
              "  <div id=\"df-b26db529-d10a-4e34-81df-b18aed177075\">\n",
              "    <div class=\"colab-df-container\">\n",
              "      <div>\n",
              "<style scoped>\n",
              "    .dataframe tbody tr th:only-of-type {\n",
              "        vertical-align: middle;\n",
              "    }\n",
              "\n",
              "    .dataframe tbody tr th {\n",
              "        vertical-align: top;\n",
              "    }\n",
              "\n",
              "    .dataframe thead th {\n",
              "        text-align: right;\n",
              "    }\n",
              "</style>\n",
              "<table border=\"1\" class=\"dataframe\">\n",
              "  <thead>\n",
              "    <tr style=\"text-align: right;\">\n",
              "      <th></th>\n",
              "      <th>0</th>\n",
              "      <th>1</th>\n",
              "      <th>2</th>\n",
              "    </tr>\n",
              "  </thead>\n",
              "  <tbody>\n",
              "    <tr>\n",
              "      <th>0</th>\n",
              "      <td>0</td>\n",
              "      <td>1</td>\n",
              "      <td>2</td>\n",
              "    </tr>\n",
              "    <tr>\n",
              "      <th>1</th>\n",
              "      <td>3</td>\n",
              "      <td>4</td>\n",
              "      <td>5</td>\n",
              "    </tr>\n",
              "    <tr>\n",
              "      <th>2</th>\n",
              "      <td>6</td>\n",
              "      <td>7</td>\n",
              "      <td>8</td>\n",
              "    </tr>\n",
              "    <tr>\n",
              "      <th>3</th>\n",
              "      <td>9</td>\n",
              "      <td>10</td>\n",
              "      <td>11</td>\n",
              "    </tr>\n",
              "    <tr>\n",
              "      <th>4</th>\n",
              "      <td>12</td>\n",
              "      <td>13</td>\n",
              "      <td>14</td>\n",
              "    </tr>\n",
              "  </tbody>\n",
              "</table>\n",
              "</div>\n",
              "      <button class=\"colab-df-convert\" onclick=\"convertToInteractive('df-b26db529-d10a-4e34-81df-b18aed177075')\"\n",
              "              title=\"Convert this dataframe to an interactive table.\"\n",
              "              style=\"display:none;\">\n",
              "        \n",
              "  <svg xmlns=\"http://www.w3.org/2000/svg\" height=\"24px\"viewBox=\"0 0 24 24\"\n",
              "       width=\"24px\">\n",
              "    <path d=\"M0 0h24v24H0V0z\" fill=\"none\"/>\n",
              "    <path d=\"M18.56 5.44l.94 2.06.94-2.06 2.06-.94-2.06-.94-.94-2.06-.94 2.06-2.06.94zm-11 1L8.5 8.5l.94-2.06 2.06-.94-2.06-.94L8.5 2.5l-.94 2.06-2.06.94zm10 10l.94 2.06.94-2.06 2.06-.94-2.06-.94-.94-2.06-.94 2.06-2.06.94z\"/><path d=\"M17.41 7.96l-1.37-1.37c-.4-.4-.92-.59-1.43-.59-.52 0-1.04.2-1.43.59L10.3 9.45l-7.72 7.72c-.78.78-.78 2.05 0 2.83L4 21.41c.39.39.9.59 1.41.59.51 0 1.02-.2 1.41-.59l7.78-7.78 2.81-2.81c.8-.78.8-2.07 0-2.86zM5.41 20L4 18.59l7.72-7.72 1.47 1.35L5.41 20z\"/>\n",
              "  </svg>\n",
              "      </button>\n",
              "      \n",
              "  <style>\n",
              "    .colab-df-container {\n",
              "      display:flex;\n",
              "      flex-wrap:wrap;\n",
              "      gap: 12px;\n",
              "    }\n",
              "\n",
              "    .colab-df-convert {\n",
              "      background-color: #E8F0FE;\n",
              "      border: none;\n",
              "      border-radius: 50%;\n",
              "      cursor: pointer;\n",
              "      display: none;\n",
              "      fill: #1967D2;\n",
              "      height: 32px;\n",
              "      padding: 0 0 0 0;\n",
              "      width: 32px;\n",
              "    }\n",
              "\n",
              "    .colab-df-convert:hover {\n",
              "      background-color: #E2EBFA;\n",
              "      box-shadow: 0px 1px 2px rgba(60, 64, 67, 0.3), 0px 1px 3px 1px rgba(60, 64, 67, 0.15);\n",
              "      fill: #174EA6;\n",
              "    }\n",
              "\n",
              "    [theme=dark] .colab-df-convert {\n",
              "      background-color: #3B4455;\n",
              "      fill: #D2E3FC;\n",
              "    }\n",
              "\n",
              "    [theme=dark] .colab-df-convert:hover {\n",
              "      background-color: #434B5C;\n",
              "      box-shadow: 0px 1px 3px 1px rgba(0, 0, 0, 0.15);\n",
              "      filter: drop-shadow(0px 1px 2px rgba(0, 0, 0, 0.3));\n",
              "      fill: #FFFFFF;\n",
              "    }\n",
              "  </style>\n",
              "\n",
              "      <script>\n",
              "        const buttonEl =\n",
              "          document.querySelector('#df-b26db529-d10a-4e34-81df-b18aed177075 button.colab-df-convert');\n",
              "        buttonEl.style.display =\n",
              "          google.colab.kernel.accessAllowed ? 'block' : 'none';\n",
              "\n",
              "        async function convertToInteractive(key) {\n",
              "          const element = document.querySelector('#df-b26db529-d10a-4e34-81df-b18aed177075');\n",
              "          const dataTable =\n",
              "            await google.colab.kernel.invokeFunction('convertToInteractive',\n",
              "                                                     [key], {});\n",
              "          if (!dataTable) return;\n",
              "\n",
              "          const docLinkHtml = 'Like what you see? Visit the ' +\n",
              "            '<a target=\"_blank\" href=https://colab.research.google.com/notebooks/data_table.ipynb>data table notebook</a>'\n",
              "            + ' to learn more about interactive tables.';\n",
              "          element.innerHTML = '';\n",
              "          dataTable['output_type'] = 'display_data';\n",
              "          await google.colab.output.renderOutput(dataTable, element);\n",
              "          const docLink = document.createElement('div');\n",
              "          docLink.innerHTML = docLinkHtml;\n",
              "          element.appendChild(docLink);\n",
              "        }\n",
              "      </script>\n",
              "    </div>\n",
              "  </div>\n",
              "  "
            ]
          },
          "metadata": {},
          "execution_count": 40
        }
      ]
    },
    {
      "cell_type": "markdown",
      "source": [
        "The following six questions depend on the penguins dataset."
      ],
      "metadata": {
        "id": "9qC1OJHFYryX"
      }
    },
    {
      "cell_type": "code",
      "source": [
        "df_penguins = sb.load_dataset('penguins')"
      ],
      "metadata": {
        "id": "iz_sYU_7UtGZ"
      },
      "execution_count": 41,
      "outputs": []
    },
    {
      "cell_type": "markdown",
      "source": [
        "2. What function can we use to drop the rows that have missing data?"
      ],
      "metadata": {
        "id": "zewpETumaw2B"
      }
    },
    {
      "cell_type": "code",
      "source": [
        "df_penguins.dropna()"
      ],
      "metadata": {
        "id": "GzqdIEsqayY9",
        "colab": {
          "base_uri": "https://localhost:8080/",
          "height": 424
        },
        "outputId": "443b1bcc-0664-496f-9115-46d8fe9774d5"
      },
      "execution_count": 45,
      "outputs": [
        {
          "output_type": "execute_result",
          "data": {
            "text/plain": [
              "    species     island  bill_length_mm  bill_depth_mm  flipper_length_mm  \\\n",
              "0    Adelie  Torgersen            39.1           18.7              181.0   \n",
              "1    Adelie  Torgersen            39.5           17.4              186.0   \n",
              "2    Adelie  Torgersen            40.3           18.0              195.0   \n",
              "4    Adelie  Torgersen            36.7           19.3              193.0   \n",
              "5    Adelie  Torgersen            39.3           20.6              190.0   \n",
              "..      ...        ...             ...            ...                ...   \n",
              "338  Gentoo     Biscoe            47.2           13.7              214.0   \n",
              "340  Gentoo     Biscoe            46.8           14.3              215.0   \n",
              "341  Gentoo     Biscoe            50.4           15.7              222.0   \n",
              "342  Gentoo     Biscoe            45.2           14.8              212.0   \n",
              "343  Gentoo     Biscoe            49.9           16.1              213.0   \n",
              "\n",
              "     body_mass_g     sex  \n",
              "0         3750.0    Male  \n",
              "1         3800.0  Female  \n",
              "2         3250.0  Female  \n",
              "4         3450.0  Female  \n",
              "5         3650.0    Male  \n",
              "..           ...     ...  \n",
              "338       4925.0  Female  \n",
              "340       4850.0  Female  \n",
              "341       5750.0    Male  \n",
              "342       5200.0  Female  \n",
              "343       5400.0    Male  \n",
              "\n",
              "[333 rows x 7 columns]"
            ],
            "text/html": [
              "\n",
              "  <div id=\"df-59afd5d8-2dd8-4e31-aa6d-d2a05fa7cbb4\">\n",
              "    <div class=\"colab-df-container\">\n",
              "      <div>\n",
              "<style scoped>\n",
              "    .dataframe tbody tr th:only-of-type {\n",
              "        vertical-align: middle;\n",
              "    }\n",
              "\n",
              "    .dataframe tbody tr th {\n",
              "        vertical-align: top;\n",
              "    }\n",
              "\n",
              "    .dataframe thead th {\n",
              "        text-align: right;\n",
              "    }\n",
              "</style>\n",
              "<table border=\"1\" class=\"dataframe\">\n",
              "  <thead>\n",
              "    <tr style=\"text-align: right;\">\n",
              "      <th></th>\n",
              "      <th>species</th>\n",
              "      <th>island</th>\n",
              "      <th>bill_length_mm</th>\n",
              "      <th>bill_depth_mm</th>\n",
              "      <th>flipper_length_mm</th>\n",
              "      <th>body_mass_g</th>\n",
              "      <th>sex</th>\n",
              "    </tr>\n",
              "  </thead>\n",
              "  <tbody>\n",
              "    <tr>\n",
              "      <th>0</th>\n",
              "      <td>Adelie</td>\n",
              "      <td>Torgersen</td>\n",
              "      <td>39.1</td>\n",
              "      <td>18.7</td>\n",
              "      <td>181.0</td>\n",
              "      <td>3750.0</td>\n",
              "      <td>Male</td>\n",
              "    </tr>\n",
              "    <tr>\n",
              "      <th>1</th>\n",
              "      <td>Adelie</td>\n",
              "      <td>Torgersen</td>\n",
              "      <td>39.5</td>\n",
              "      <td>17.4</td>\n",
              "      <td>186.0</td>\n",
              "      <td>3800.0</td>\n",
              "      <td>Female</td>\n",
              "    </tr>\n",
              "    <tr>\n",
              "      <th>2</th>\n",
              "      <td>Adelie</td>\n",
              "      <td>Torgersen</td>\n",
              "      <td>40.3</td>\n",
              "      <td>18.0</td>\n",
              "      <td>195.0</td>\n",
              "      <td>3250.0</td>\n",
              "      <td>Female</td>\n",
              "    </tr>\n",
              "    <tr>\n",
              "      <th>4</th>\n",
              "      <td>Adelie</td>\n",
              "      <td>Torgersen</td>\n",
              "      <td>36.7</td>\n",
              "      <td>19.3</td>\n",
              "      <td>193.0</td>\n",
              "      <td>3450.0</td>\n",
              "      <td>Female</td>\n",
              "    </tr>\n",
              "    <tr>\n",
              "      <th>5</th>\n",
              "      <td>Adelie</td>\n",
              "      <td>Torgersen</td>\n",
              "      <td>39.3</td>\n",
              "      <td>20.6</td>\n",
              "      <td>190.0</td>\n",
              "      <td>3650.0</td>\n",
              "      <td>Male</td>\n",
              "    </tr>\n",
              "    <tr>\n",
              "      <th>...</th>\n",
              "      <td>...</td>\n",
              "      <td>...</td>\n",
              "      <td>...</td>\n",
              "      <td>...</td>\n",
              "      <td>...</td>\n",
              "      <td>...</td>\n",
              "      <td>...</td>\n",
              "    </tr>\n",
              "    <tr>\n",
              "      <th>338</th>\n",
              "      <td>Gentoo</td>\n",
              "      <td>Biscoe</td>\n",
              "      <td>47.2</td>\n",
              "      <td>13.7</td>\n",
              "      <td>214.0</td>\n",
              "      <td>4925.0</td>\n",
              "      <td>Female</td>\n",
              "    </tr>\n",
              "    <tr>\n",
              "      <th>340</th>\n",
              "      <td>Gentoo</td>\n",
              "      <td>Biscoe</td>\n",
              "      <td>46.8</td>\n",
              "      <td>14.3</td>\n",
              "      <td>215.0</td>\n",
              "      <td>4850.0</td>\n",
              "      <td>Female</td>\n",
              "    </tr>\n",
              "    <tr>\n",
              "      <th>341</th>\n",
              "      <td>Gentoo</td>\n",
              "      <td>Biscoe</td>\n",
              "      <td>50.4</td>\n",
              "      <td>15.7</td>\n",
              "      <td>222.0</td>\n",
              "      <td>5750.0</td>\n",
              "      <td>Male</td>\n",
              "    </tr>\n",
              "    <tr>\n",
              "      <th>342</th>\n",
              "      <td>Gentoo</td>\n",
              "      <td>Biscoe</td>\n",
              "      <td>45.2</td>\n",
              "      <td>14.8</td>\n",
              "      <td>212.0</td>\n",
              "      <td>5200.0</td>\n",
              "      <td>Female</td>\n",
              "    </tr>\n",
              "    <tr>\n",
              "      <th>343</th>\n",
              "      <td>Gentoo</td>\n",
              "      <td>Biscoe</td>\n",
              "      <td>49.9</td>\n",
              "      <td>16.1</td>\n",
              "      <td>213.0</td>\n",
              "      <td>5400.0</td>\n",
              "      <td>Male</td>\n",
              "    </tr>\n",
              "  </tbody>\n",
              "</table>\n",
              "<p>333 rows × 7 columns</p>\n",
              "</div>\n",
              "      <button class=\"colab-df-convert\" onclick=\"convertToInteractive('df-59afd5d8-2dd8-4e31-aa6d-d2a05fa7cbb4')\"\n",
              "              title=\"Convert this dataframe to an interactive table.\"\n",
              "              style=\"display:none;\">\n",
              "        \n",
              "  <svg xmlns=\"http://www.w3.org/2000/svg\" height=\"24px\"viewBox=\"0 0 24 24\"\n",
              "       width=\"24px\">\n",
              "    <path d=\"M0 0h24v24H0V0z\" fill=\"none\"/>\n",
              "    <path d=\"M18.56 5.44l.94 2.06.94-2.06 2.06-.94-2.06-.94-.94-2.06-.94 2.06-2.06.94zm-11 1L8.5 8.5l.94-2.06 2.06-.94-2.06-.94L8.5 2.5l-.94 2.06-2.06.94zm10 10l.94 2.06.94-2.06 2.06-.94-2.06-.94-.94-2.06-.94 2.06-2.06.94z\"/><path d=\"M17.41 7.96l-1.37-1.37c-.4-.4-.92-.59-1.43-.59-.52 0-1.04.2-1.43.59L10.3 9.45l-7.72 7.72c-.78.78-.78 2.05 0 2.83L4 21.41c.39.39.9.59 1.41.59.51 0 1.02-.2 1.41-.59l7.78-7.78 2.81-2.81c.8-.78.8-2.07 0-2.86zM5.41 20L4 18.59l7.72-7.72 1.47 1.35L5.41 20z\"/>\n",
              "  </svg>\n",
              "      </button>\n",
              "      \n",
              "  <style>\n",
              "    .colab-df-container {\n",
              "      display:flex;\n",
              "      flex-wrap:wrap;\n",
              "      gap: 12px;\n",
              "    }\n",
              "\n",
              "    .colab-df-convert {\n",
              "      background-color: #E8F0FE;\n",
              "      border: none;\n",
              "      border-radius: 50%;\n",
              "      cursor: pointer;\n",
              "      display: none;\n",
              "      fill: #1967D2;\n",
              "      height: 32px;\n",
              "      padding: 0 0 0 0;\n",
              "      width: 32px;\n",
              "    }\n",
              "\n",
              "    .colab-df-convert:hover {\n",
              "      background-color: #E2EBFA;\n",
              "      box-shadow: 0px 1px 2px rgba(60, 64, 67, 0.3), 0px 1px 3px 1px rgba(60, 64, 67, 0.15);\n",
              "      fill: #174EA6;\n",
              "    }\n",
              "\n",
              "    [theme=dark] .colab-df-convert {\n",
              "      background-color: #3B4455;\n",
              "      fill: #D2E3FC;\n",
              "    }\n",
              "\n",
              "    [theme=dark] .colab-df-convert:hover {\n",
              "      background-color: #434B5C;\n",
              "      box-shadow: 0px 1px 3px 1px rgba(0, 0, 0, 0.15);\n",
              "      filter: drop-shadow(0px 1px 2px rgba(0, 0, 0, 0.3));\n",
              "      fill: #FFFFFF;\n",
              "    }\n",
              "  </style>\n",
              "\n",
              "      <script>\n",
              "        const buttonEl =\n",
              "          document.querySelector('#df-59afd5d8-2dd8-4e31-aa6d-d2a05fa7cbb4 button.colab-df-convert');\n",
              "        buttonEl.style.display =\n",
              "          google.colab.kernel.accessAllowed ? 'block' : 'none';\n",
              "\n",
              "        async function convertToInteractive(key) {\n",
              "          const element = document.querySelector('#df-59afd5d8-2dd8-4e31-aa6d-d2a05fa7cbb4');\n",
              "          const dataTable =\n",
              "            await google.colab.kernel.invokeFunction('convertToInteractive',\n",
              "                                                     [key], {});\n",
              "          if (!dataTable) return;\n",
              "\n",
              "          const docLinkHtml = 'Like what you see? Visit the ' +\n",
              "            '<a target=\"_blank\" href=https://colab.research.google.com/notebooks/data_table.ipynb>data table notebook</a>'\n",
              "            + ' to learn more about interactive tables.';\n",
              "          element.innerHTML = '';\n",
              "          dataTable['output_type'] = 'display_data';\n",
              "          await google.colab.output.renderOutput(dataTable, element);\n",
              "          const docLink = document.createElement('div');\n",
              "          docLink.innerHTML = docLinkHtml;\n",
              "          element.appendChild(docLink);\n",
              "        }\n",
              "      </script>\n",
              "    </div>\n",
              "  </div>\n",
              "  "
            ]
          },
          "metadata": {},
          "execution_count": 45
        }
      ]
    },
    {
      "cell_type": "markdown",
      "source": [
        "3. By default, will the function in Question 2 modify df_penguins or will it return a copy?"
      ],
      "metadata": {
        "id": "H5-OiNdwazAl"
      }
    },
    {
      "cell_type": "markdown",
      "source": [
        "A: It will return a copy."
      ],
      "metadata": {
        "id": "C5tAVufVNMFn"
      }
    },
    {
      "cell_type": "markdown",
      "source": [
        "4. Let df_full be the dataframe obtained from dropping rows with missing data. What is the average bill length of a penguin, in millimeters, in this (df_full) data set?"
      ],
      "metadata": {
        "id": "fGpQs-HxbE-4"
      }
    },
    {
      "cell_type": "code",
      "source": [
        "df_penguins.dropna().bill_length_mm.mean()"
      ],
      "metadata": {
        "colab": {
          "base_uri": "https://localhost:8080/"
        },
        "id": "LkpJZehfNjy-",
        "outputId": "6690c242-5b9b-4151-81b0-fa0109a17365"
      },
      "execution_count": 47,
      "outputs": [
        {
          "output_type": "execute_result",
          "data": {
            "text/plain": [
              "43.99279279279279"
            ]
          },
          "metadata": {},
          "execution_count": 47
        }
      ]
    },
    {
      "cell_type": "markdown",
      "source": [
        "5. Which species has the longest flippers?"
      ],
      "metadata": {
        "id": "8G2PTyWXZu3Q"
      }
    },
    {
      "cell_type": "code",
      "source": [
        "idx = df_penguins['flipper_length_mm'].idxmax()\n",
        "df_penguins.loc[idx, 'species']"
      ],
      "metadata": {
        "id": "3t2CXujeUtJO",
        "colab": {
          "base_uri": "https://localhost:8080/",
          "height": 36
        },
        "outputId": "10ff83d9-1387-486b-b995-362051de7a77"
      },
      "execution_count": 52,
      "outputs": [
        {
          "output_type": "execute_result",
          "data": {
            "text/plain": [
              "'Gentoo'"
            ],
            "application/vnd.google.colaboratory.intrinsic+json": {
              "type": "string"
            }
          },
          "metadata": {},
          "execution_count": 52
        }
      ]
    },
    {
      "cell_type": "markdown",
      "source": [
        "6. Which two species have the most similar mean weight?"
      ],
      "metadata": {
        "id": "1cIOry3KZwVt"
      }
    },
    {
      "cell_type": "code",
      "source": [
        "df_penguins.groupby('species').body_mass_g.mean() # Adelie and Chinstrap have the most similar mean weight."
      ],
      "metadata": {
        "id": "SxrsVLOjUtLy",
        "colab": {
          "base_uri": "https://localhost:8080/"
        },
        "outputId": "f487918c-198a-4e16-ec26-419c1b5822f7"
      },
      "execution_count": 57,
      "outputs": [
        {
          "output_type": "execute_result",
          "data": {
            "text/plain": [
              "species\n",
              "Adelie       3700.662252\n",
              "Chinstrap    3733.088235\n",
              "Gentoo       5076.016260\n",
              "Name: body_mass_g, dtype: float64"
            ]
          },
          "metadata": {},
          "execution_count": 57
        }
      ]
    },
    {
      "cell_type": "markdown",
      "source": [
        "7. How could you sort by species first, then by body mass?"
      ],
      "metadata": {
        "id": "KwYXrDn8Z1Zs"
      }
    },
    {
      "cell_type": "code",
      "source": [
        "df_penguins.sort_values(by=['species', 'body_mass_g'])"
      ],
      "metadata": {
        "id": "rPfIrl1HdHWf",
        "colab": {
          "base_uri": "https://localhost:8080/",
          "height": 424
        },
        "outputId": "a668d21a-a681-4e3a-9f7d-3102216723bb"
      },
      "execution_count": 58,
      "outputs": [
        {
          "output_type": "execute_result",
          "data": {
            "text/plain": [
              "    species     island  bill_length_mm  bill_depth_mm  flipper_length_mm  \\\n",
              "58   Adelie     Biscoe            36.5           16.6              181.0   \n",
              "64   Adelie     Biscoe            36.4           17.1              184.0   \n",
              "54   Adelie     Biscoe            34.5           18.1              187.0   \n",
              "98   Adelie      Dream            33.1           16.1              178.0   \n",
              "116  Adelie  Torgersen            38.6           17.0              188.0   \n",
              "..      ...        ...             ...            ...                ...   \n",
              "297  Gentoo     Biscoe            51.1           16.3              220.0   \n",
              "337  Gentoo     Biscoe            48.8           16.2              222.0   \n",
              "253  Gentoo     Biscoe            59.6           17.0              230.0   \n",
              "237  Gentoo     Biscoe            49.2           15.2              221.0   \n",
              "339  Gentoo     Biscoe             NaN            NaN                NaN   \n",
              "\n",
              "     body_mass_g     sex  \n",
              "58        2850.0  Female  \n",
              "64        2850.0  Female  \n",
              "54        2900.0  Female  \n",
              "98        2900.0  Female  \n",
              "116       2900.0  Female  \n",
              "..           ...     ...  \n",
              "297       6000.0    Male  \n",
              "337       6000.0    Male  \n",
              "253       6050.0    Male  \n",
              "237       6300.0    Male  \n",
              "339          NaN     NaN  \n",
              "\n",
              "[344 rows x 7 columns]"
            ],
            "text/html": [
              "\n",
              "  <div id=\"df-4b3aa82d-4d4c-40f2-b3ef-30c7157f5d4a\">\n",
              "    <div class=\"colab-df-container\">\n",
              "      <div>\n",
              "<style scoped>\n",
              "    .dataframe tbody tr th:only-of-type {\n",
              "        vertical-align: middle;\n",
              "    }\n",
              "\n",
              "    .dataframe tbody tr th {\n",
              "        vertical-align: top;\n",
              "    }\n",
              "\n",
              "    .dataframe thead th {\n",
              "        text-align: right;\n",
              "    }\n",
              "</style>\n",
              "<table border=\"1\" class=\"dataframe\">\n",
              "  <thead>\n",
              "    <tr style=\"text-align: right;\">\n",
              "      <th></th>\n",
              "      <th>species</th>\n",
              "      <th>island</th>\n",
              "      <th>bill_length_mm</th>\n",
              "      <th>bill_depth_mm</th>\n",
              "      <th>flipper_length_mm</th>\n",
              "      <th>body_mass_g</th>\n",
              "      <th>sex</th>\n",
              "    </tr>\n",
              "  </thead>\n",
              "  <tbody>\n",
              "    <tr>\n",
              "      <th>58</th>\n",
              "      <td>Adelie</td>\n",
              "      <td>Biscoe</td>\n",
              "      <td>36.5</td>\n",
              "      <td>16.6</td>\n",
              "      <td>181.0</td>\n",
              "      <td>2850.0</td>\n",
              "      <td>Female</td>\n",
              "    </tr>\n",
              "    <tr>\n",
              "      <th>64</th>\n",
              "      <td>Adelie</td>\n",
              "      <td>Biscoe</td>\n",
              "      <td>36.4</td>\n",
              "      <td>17.1</td>\n",
              "      <td>184.0</td>\n",
              "      <td>2850.0</td>\n",
              "      <td>Female</td>\n",
              "    </tr>\n",
              "    <tr>\n",
              "      <th>54</th>\n",
              "      <td>Adelie</td>\n",
              "      <td>Biscoe</td>\n",
              "      <td>34.5</td>\n",
              "      <td>18.1</td>\n",
              "      <td>187.0</td>\n",
              "      <td>2900.0</td>\n",
              "      <td>Female</td>\n",
              "    </tr>\n",
              "    <tr>\n",
              "      <th>98</th>\n",
              "      <td>Adelie</td>\n",
              "      <td>Dream</td>\n",
              "      <td>33.1</td>\n",
              "      <td>16.1</td>\n",
              "      <td>178.0</td>\n",
              "      <td>2900.0</td>\n",
              "      <td>Female</td>\n",
              "    </tr>\n",
              "    <tr>\n",
              "      <th>116</th>\n",
              "      <td>Adelie</td>\n",
              "      <td>Torgersen</td>\n",
              "      <td>38.6</td>\n",
              "      <td>17.0</td>\n",
              "      <td>188.0</td>\n",
              "      <td>2900.0</td>\n",
              "      <td>Female</td>\n",
              "    </tr>\n",
              "    <tr>\n",
              "      <th>...</th>\n",
              "      <td>...</td>\n",
              "      <td>...</td>\n",
              "      <td>...</td>\n",
              "      <td>...</td>\n",
              "      <td>...</td>\n",
              "      <td>...</td>\n",
              "      <td>...</td>\n",
              "    </tr>\n",
              "    <tr>\n",
              "      <th>297</th>\n",
              "      <td>Gentoo</td>\n",
              "      <td>Biscoe</td>\n",
              "      <td>51.1</td>\n",
              "      <td>16.3</td>\n",
              "      <td>220.0</td>\n",
              "      <td>6000.0</td>\n",
              "      <td>Male</td>\n",
              "    </tr>\n",
              "    <tr>\n",
              "      <th>337</th>\n",
              "      <td>Gentoo</td>\n",
              "      <td>Biscoe</td>\n",
              "      <td>48.8</td>\n",
              "      <td>16.2</td>\n",
              "      <td>222.0</td>\n",
              "      <td>6000.0</td>\n",
              "      <td>Male</td>\n",
              "    </tr>\n",
              "    <tr>\n",
              "      <th>253</th>\n",
              "      <td>Gentoo</td>\n",
              "      <td>Biscoe</td>\n",
              "      <td>59.6</td>\n",
              "      <td>17.0</td>\n",
              "      <td>230.0</td>\n",
              "      <td>6050.0</td>\n",
              "      <td>Male</td>\n",
              "    </tr>\n",
              "    <tr>\n",
              "      <th>237</th>\n",
              "      <td>Gentoo</td>\n",
              "      <td>Biscoe</td>\n",
              "      <td>49.2</td>\n",
              "      <td>15.2</td>\n",
              "      <td>221.0</td>\n",
              "      <td>6300.0</td>\n",
              "      <td>Male</td>\n",
              "    </tr>\n",
              "    <tr>\n",
              "      <th>339</th>\n",
              "      <td>Gentoo</td>\n",
              "      <td>Biscoe</td>\n",
              "      <td>NaN</td>\n",
              "      <td>NaN</td>\n",
              "      <td>NaN</td>\n",
              "      <td>NaN</td>\n",
              "      <td>NaN</td>\n",
              "    </tr>\n",
              "  </tbody>\n",
              "</table>\n",
              "<p>344 rows × 7 columns</p>\n",
              "</div>\n",
              "      <button class=\"colab-df-convert\" onclick=\"convertToInteractive('df-4b3aa82d-4d4c-40f2-b3ef-30c7157f5d4a')\"\n",
              "              title=\"Convert this dataframe to an interactive table.\"\n",
              "              style=\"display:none;\">\n",
              "        \n",
              "  <svg xmlns=\"http://www.w3.org/2000/svg\" height=\"24px\"viewBox=\"0 0 24 24\"\n",
              "       width=\"24px\">\n",
              "    <path d=\"M0 0h24v24H0V0z\" fill=\"none\"/>\n",
              "    <path d=\"M18.56 5.44l.94 2.06.94-2.06 2.06-.94-2.06-.94-.94-2.06-.94 2.06-2.06.94zm-11 1L8.5 8.5l.94-2.06 2.06-.94-2.06-.94L8.5 2.5l-.94 2.06-2.06.94zm10 10l.94 2.06.94-2.06 2.06-.94-2.06-.94-.94-2.06-.94 2.06-2.06.94z\"/><path d=\"M17.41 7.96l-1.37-1.37c-.4-.4-.92-.59-1.43-.59-.52 0-1.04.2-1.43.59L10.3 9.45l-7.72 7.72c-.78.78-.78 2.05 0 2.83L4 21.41c.39.39.9.59 1.41.59.51 0 1.02-.2 1.41-.59l7.78-7.78 2.81-2.81c.8-.78.8-2.07 0-2.86zM5.41 20L4 18.59l7.72-7.72 1.47 1.35L5.41 20z\"/>\n",
              "  </svg>\n",
              "      </button>\n",
              "      \n",
              "  <style>\n",
              "    .colab-df-container {\n",
              "      display:flex;\n",
              "      flex-wrap:wrap;\n",
              "      gap: 12px;\n",
              "    }\n",
              "\n",
              "    .colab-df-convert {\n",
              "      background-color: #E8F0FE;\n",
              "      border: none;\n",
              "      border-radius: 50%;\n",
              "      cursor: pointer;\n",
              "      display: none;\n",
              "      fill: #1967D2;\n",
              "      height: 32px;\n",
              "      padding: 0 0 0 0;\n",
              "      width: 32px;\n",
              "    }\n",
              "\n",
              "    .colab-df-convert:hover {\n",
              "      background-color: #E2EBFA;\n",
              "      box-shadow: 0px 1px 2px rgba(60, 64, 67, 0.3), 0px 1px 3px 1px rgba(60, 64, 67, 0.15);\n",
              "      fill: #174EA6;\n",
              "    }\n",
              "\n",
              "    [theme=dark] .colab-df-convert {\n",
              "      background-color: #3B4455;\n",
              "      fill: #D2E3FC;\n",
              "    }\n",
              "\n",
              "    [theme=dark] .colab-df-convert:hover {\n",
              "      background-color: #434B5C;\n",
              "      box-shadow: 0px 1px 3px 1px rgba(0, 0, 0, 0.15);\n",
              "      filter: drop-shadow(0px 1px 2px rgba(0, 0, 0, 0.3));\n",
              "      fill: #FFFFFF;\n",
              "    }\n",
              "  </style>\n",
              "\n",
              "      <script>\n",
              "        const buttonEl =\n",
              "          document.querySelector('#df-4b3aa82d-4d4c-40f2-b3ef-30c7157f5d4a button.colab-df-convert');\n",
              "        buttonEl.style.display =\n",
              "          google.colab.kernel.accessAllowed ? 'block' : 'none';\n",
              "\n",
              "        async function convertToInteractive(key) {\n",
              "          const element = document.querySelector('#df-4b3aa82d-4d4c-40f2-b3ef-30c7157f5d4a');\n",
              "          const dataTable =\n",
              "            await google.colab.kernel.invokeFunction('convertToInteractive',\n",
              "                                                     [key], {});\n",
              "          if (!dataTable) return;\n",
              "\n",
              "          const docLinkHtml = 'Like what you see? Visit the ' +\n",
              "            '<a target=\"_blank\" href=https://colab.research.google.com/notebooks/data_table.ipynb>data table notebook</a>'\n",
              "            + ' to learn more about interactive tables.';\n",
              "          element.innerHTML = '';\n",
              "          dataTable['output_type'] = 'display_data';\n",
              "          await google.colab.output.renderOutput(dataTable, element);\n",
              "          const docLink = document.createElement('div');\n",
              "          docLink.innerHTML = docLinkHtml;\n",
              "          element.appendChild(docLink);\n",
              "        }\n",
              "      </script>\n",
              "    </div>\n",
              "  </div>\n",
              "  "
            ]
          },
          "metadata": {},
          "execution_count": 58
        }
      ]
    },
    {
      "cell_type": "markdown",
      "source": [
        "The following three questions depend on the taxis dataset."
      ],
      "metadata": {
        "id": "bRR0ove1aLBL"
      }
    },
    {
      "cell_type": "code",
      "source": [
        "df_taxis = sb.load_dataset('taxis')"
      ],
      "metadata": {
        "id": "UXIN5IwbUtOd"
      },
      "execution_count": 59,
      "outputs": []
    },
    {
      "cell_type": "markdown",
      "source": [
        "8. The 'pickup' column contains the date and time the customer picked up, but it's a string.  Add a column to the DataFrame, 'pickup_time', containing the value in 'pickup' as a DateTime."
      ],
      "metadata": {
        "id": "3oh5_pHEbrQp"
      }
    },
    {
      "cell_type": "code",
      "source": [
        "df_taxis['pickup_time'] = pd.to_datetime(df_taxis['pickup'])\n",
        "df_taxis"
      ],
      "metadata": {
        "colab": {
          "base_uri": "https://localhost:8080/",
          "height": 424
        },
        "id": "RXxyttxrQUM8",
        "outputId": "30d636ce-1c1e-4e62-e757-2432b6610ae0"
      },
      "execution_count": 61,
      "outputs": [
        {
          "output_type": "execute_result",
          "data": {
            "text/plain": [
              "                   pickup              dropoff  passengers  distance  fare  \\\n",
              "0     2019-03-23 20:21:09  2019-03-23 20:27:24           1      1.60   7.0   \n",
              "1     2019-03-04 16:11:55  2019-03-04 16:19:00           1      0.79   5.0   \n",
              "2     2019-03-27 17:53:01  2019-03-27 18:00:25           1      1.37   7.5   \n",
              "3     2019-03-10 01:23:59  2019-03-10 01:49:51           1      7.70  27.0   \n",
              "4     2019-03-30 13:27:42  2019-03-30 13:37:14           3      2.16   9.0   \n",
              "...                   ...                  ...         ...       ...   ...   \n",
              "6428  2019-03-31 09:51:53  2019-03-31 09:55:27           1      0.75   4.5   \n",
              "6429  2019-03-31 17:38:00  2019-03-31 18:34:23           1     18.74  58.0   \n",
              "6430  2019-03-23 22:55:18  2019-03-23 23:14:25           1      4.14  16.0   \n",
              "6431  2019-03-04 10:09:25  2019-03-04 10:14:29           1      1.12   6.0   \n",
              "6432  2019-03-13 19:31:22  2019-03-13 19:48:02           1      3.85  15.0   \n",
              "\n",
              "       tip  tolls  total   color      payment            pickup_zone  \\\n",
              "0     2.15    0.0  12.95  yellow  credit card        Lenox Hill West   \n",
              "1     0.00    0.0   9.30  yellow         cash  Upper West Side South   \n",
              "2     2.36    0.0  14.16  yellow  credit card          Alphabet City   \n",
              "3     6.15    0.0  36.95  yellow  credit card              Hudson Sq   \n",
              "4     1.10    0.0  13.40  yellow  credit card           Midtown East   \n",
              "...    ...    ...    ...     ...          ...                    ...   \n",
              "6428  1.06    0.0   6.36   green  credit card      East Harlem North   \n",
              "6429  0.00    0.0  58.80   green  credit card                Jamaica   \n",
              "6430  0.00    0.0  17.30   green         cash    Crown Heights North   \n",
              "6431  0.00    0.0   6.80   green  credit card          East New York   \n",
              "6432  3.36    0.0  20.16   green  credit card            Boerum Hill   \n",
              "\n",
              "                          dropoff_zone pickup_borough dropoff_borough  \\\n",
              "0                  UN/Turtle Bay South      Manhattan       Manhattan   \n",
              "1                Upper West Side South      Manhattan       Manhattan   \n",
              "2                         West Village      Manhattan       Manhattan   \n",
              "3                       Yorkville West      Manhattan       Manhattan   \n",
              "4                       Yorkville West      Manhattan       Manhattan   \n",
              "...                                ...            ...             ...   \n",
              "6428              Central Harlem North      Manhattan       Manhattan   \n",
              "6429  East Concourse/Concourse Village         Queens           Bronx   \n",
              "6430                    Bushwick North       Brooklyn        Brooklyn   \n",
              "6431      East Flatbush/Remsen Village       Brooklyn        Brooklyn   \n",
              "6432                   Windsor Terrace       Brooklyn        Brooklyn   \n",
              "\n",
              "             pickup_time  \n",
              "0    2019-03-23 20:21:09  \n",
              "1    2019-03-04 16:11:55  \n",
              "2    2019-03-27 17:53:01  \n",
              "3    2019-03-10 01:23:59  \n",
              "4    2019-03-30 13:27:42  \n",
              "...                  ...  \n",
              "6428 2019-03-31 09:51:53  \n",
              "6429 2019-03-31 17:38:00  \n",
              "6430 2019-03-23 22:55:18  \n",
              "6431 2019-03-04 10:09:25  \n",
              "6432 2019-03-13 19:31:22  \n",
              "\n",
              "[6433 rows x 15 columns]"
            ],
            "text/html": [
              "\n",
              "  <div id=\"df-506daecf-7f67-402e-a2fa-a7df033d6556\">\n",
              "    <div class=\"colab-df-container\">\n",
              "      <div>\n",
              "<style scoped>\n",
              "    .dataframe tbody tr th:only-of-type {\n",
              "        vertical-align: middle;\n",
              "    }\n",
              "\n",
              "    .dataframe tbody tr th {\n",
              "        vertical-align: top;\n",
              "    }\n",
              "\n",
              "    .dataframe thead th {\n",
              "        text-align: right;\n",
              "    }\n",
              "</style>\n",
              "<table border=\"1\" class=\"dataframe\">\n",
              "  <thead>\n",
              "    <tr style=\"text-align: right;\">\n",
              "      <th></th>\n",
              "      <th>pickup</th>\n",
              "      <th>dropoff</th>\n",
              "      <th>passengers</th>\n",
              "      <th>distance</th>\n",
              "      <th>fare</th>\n",
              "      <th>tip</th>\n",
              "      <th>tolls</th>\n",
              "      <th>total</th>\n",
              "      <th>color</th>\n",
              "      <th>payment</th>\n",
              "      <th>pickup_zone</th>\n",
              "      <th>dropoff_zone</th>\n",
              "      <th>pickup_borough</th>\n",
              "      <th>dropoff_borough</th>\n",
              "      <th>pickup_time</th>\n",
              "    </tr>\n",
              "  </thead>\n",
              "  <tbody>\n",
              "    <tr>\n",
              "      <th>0</th>\n",
              "      <td>2019-03-23 20:21:09</td>\n",
              "      <td>2019-03-23 20:27:24</td>\n",
              "      <td>1</td>\n",
              "      <td>1.60</td>\n",
              "      <td>7.0</td>\n",
              "      <td>2.15</td>\n",
              "      <td>0.0</td>\n",
              "      <td>12.95</td>\n",
              "      <td>yellow</td>\n",
              "      <td>credit card</td>\n",
              "      <td>Lenox Hill West</td>\n",
              "      <td>UN/Turtle Bay South</td>\n",
              "      <td>Manhattan</td>\n",
              "      <td>Manhattan</td>\n",
              "      <td>2019-03-23 20:21:09</td>\n",
              "    </tr>\n",
              "    <tr>\n",
              "      <th>1</th>\n",
              "      <td>2019-03-04 16:11:55</td>\n",
              "      <td>2019-03-04 16:19:00</td>\n",
              "      <td>1</td>\n",
              "      <td>0.79</td>\n",
              "      <td>5.0</td>\n",
              "      <td>0.00</td>\n",
              "      <td>0.0</td>\n",
              "      <td>9.30</td>\n",
              "      <td>yellow</td>\n",
              "      <td>cash</td>\n",
              "      <td>Upper West Side South</td>\n",
              "      <td>Upper West Side South</td>\n",
              "      <td>Manhattan</td>\n",
              "      <td>Manhattan</td>\n",
              "      <td>2019-03-04 16:11:55</td>\n",
              "    </tr>\n",
              "    <tr>\n",
              "      <th>2</th>\n",
              "      <td>2019-03-27 17:53:01</td>\n",
              "      <td>2019-03-27 18:00:25</td>\n",
              "      <td>1</td>\n",
              "      <td>1.37</td>\n",
              "      <td>7.5</td>\n",
              "      <td>2.36</td>\n",
              "      <td>0.0</td>\n",
              "      <td>14.16</td>\n",
              "      <td>yellow</td>\n",
              "      <td>credit card</td>\n",
              "      <td>Alphabet City</td>\n",
              "      <td>West Village</td>\n",
              "      <td>Manhattan</td>\n",
              "      <td>Manhattan</td>\n",
              "      <td>2019-03-27 17:53:01</td>\n",
              "    </tr>\n",
              "    <tr>\n",
              "      <th>3</th>\n",
              "      <td>2019-03-10 01:23:59</td>\n",
              "      <td>2019-03-10 01:49:51</td>\n",
              "      <td>1</td>\n",
              "      <td>7.70</td>\n",
              "      <td>27.0</td>\n",
              "      <td>6.15</td>\n",
              "      <td>0.0</td>\n",
              "      <td>36.95</td>\n",
              "      <td>yellow</td>\n",
              "      <td>credit card</td>\n",
              "      <td>Hudson Sq</td>\n",
              "      <td>Yorkville West</td>\n",
              "      <td>Manhattan</td>\n",
              "      <td>Manhattan</td>\n",
              "      <td>2019-03-10 01:23:59</td>\n",
              "    </tr>\n",
              "    <tr>\n",
              "      <th>4</th>\n",
              "      <td>2019-03-30 13:27:42</td>\n",
              "      <td>2019-03-30 13:37:14</td>\n",
              "      <td>3</td>\n",
              "      <td>2.16</td>\n",
              "      <td>9.0</td>\n",
              "      <td>1.10</td>\n",
              "      <td>0.0</td>\n",
              "      <td>13.40</td>\n",
              "      <td>yellow</td>\n",
              "      <td>credit card</td>\n",
              "      <td>Midtown East</td>\n",
              "      <td>Yorkville West</td>\n",
              "      <td>Manhattan</td>\n",
              "      <td>Manhattan</td>\n",
              "      <td>2019-03-30 13:27:42</td>\n",
              "    </tr>\n",
              "    <tr>\n",
              "      <th>...</th>\n",
              "      <td>...</td>\n",
              "      <td>...</td>\n",
              "      <td>...</td>\n",
              "      <td>...</td>\n",
              "      <td>...</td>\n",
              "      <td>...</td>\n",
              "      <td>...</td>\n",
              "      <td>...</td>\n",
              "      <td>...</td>\n",
              "      <td>...</td>\n",
              "      <td>...</td>\n",
              "      <td>...</td>\n",
              "      <td>...</td>\n",
              "      <td>...</td>\n",
              "      <td>...</td>\n",
              "    </tr>\n",
              "    <tr>\n",
              "      <th>6428</th>\n",
              "      <td>2019-03-31 09:51:53</td>\n",
              "      <td>2019-03-31 09:55:27</td>\n",
              "      <td>1</td>\n",
              "      <td>0.75</td>\n",
              "      <td>4.5</td>\n",
              "      <td>1.06</td>\n",
              "      <td>0.0</td>\n",
              "      <td>6.36</td>\n",
              "      <td>green</td>\n",
              "      <td>credit card</td>\n",
              "      <td>East Harlem North</td>\n",
              "      <td>Central Harlem North</td>\n",
              "      <td>Manhattan</td>\n",
              "      <td>Manhattan</td>\n",
              "      <td>2019-03-31 09:51:53</td>\n",
              "    </tr>\n",
              "    <tr>\n",
              "      <th>6429</th>\n",
              "      <td>2019-03-31 17:38:00</td>\n",
              "      <td>2019-03-31 18:34:23</td>\n",
              "      <td>1</td>\n",
              "      <td>18.74</td>\n",
              "      <td>58.0</td>\n",
              "      <td>0.00</td>\n",
              "      <td>0.0</td>\n",
              "      <td>58.80</td>\n",
              "      <td>green</td>\n",
              "      <td>credit card</td>\n",
              "      <td>Jamaica</td>\n",
              "      <td>East Concourse/Concourse Village</td>\n",
              "      <td>Queens</td>\n",
              "      <td>Bronx</td>\n",
              "      <td>2019-03-31 17:38:00</td>\n",
              "    </tr>\n",
              "    <tr>\n",
              "      <th>6430</th>\n",
              "      <td>2019-03-23 22:55:18</td>\n",
              "      <td>2019-03-23 23:14:25</td>\n",
              "      <td>1</td>\n",
              "      <td>4.14</td>\n",
              "      <td>16.0</td>\n",
              "      <td>0.00</td>\n",
              "      <td>0.0</td>\n",
              "      <td>17.30</td>\n",
              "      <td>green</td>\n",
              "      <td>cash</td>\n",
              "      <td>Crown Heights North</td>\n",
              "      <td>Bushwick North</td>\n",
              "      <td>Brooklyn</td>\n",
              "      <td>Brooklyn</td>\n",
              "      <td>2019-03-23 22:55:18</td>\n",
              "    </tr>\n",
              "    <tr>\n",
              "      <th>6431</th>\n",
              "      <td>2019-03-04 10:09:25</td>\n",
              "      <td>2019-03-04 10:14:29</td>\n",
              "      <td>1</td>\n",
              "      <td>1.12</td>\n",
              "      <td>6.0</td>\n",
              "      <td>0.00</td>\n",
              "      <td>0.0</td>\n",
              "      <td>6.80</td>\n",
              "      <td>green</td>\n",
              "      <td>credit card</td>\n",
              "      <td>East New York</td>\n",
              "      <td>East Flatbush/Remsen Village</td>\n",
              "      <td>Brooklyn</td>\n",
              "      <td>Brooklyn</td>\n",
              "      <td>2019-03-04 10:09:25</td>\n",
              "    </tr>\n",
              "    <tr>\n",
              "      <th>6432</th>\n",
              "      <td>2019-03-13 19:31:22</td>\n",
              "      <td>2019-03-13 19:48:02</td>\n",
              "      <td>1</td>\n",
              "      <td>3.85</td>\n",
              "      <td>15.0</td>\n",
              "      <td>3.36</td>\n",
              "      <td>0.0</td>\n",
              "      <td>20.16</td>\n",
              "      <td>green</td>\n",
              "      <td>credit card</td>\n",
              "      <td>Boerum Hill</td>\n",
              "      <td>Windsor Terrace</td>\n",
              "      <td>Brooklyn</td>\n",
              "      <td>Brooklyn</td>\n",
              "      <td>2019-03-13 19:31:22</td>\n",
              "    </tr>\n",
              "  </tbody>\n",
              "</table>\n",
              "<p>6433 rows × 15 columns</p>\n",
              "</div>\n",
              "      <button class=\"colab-df-convert\" onclick=\"convertToInteractive('df-506daecf-7f67-402e-a2fa-a7df033d6556')\"\n",
              "              title=\"Convert this dataframe to an interactive table.\"\n",
              "              style=\"display:none;\">\n",
              "        \n",
              "  <svg xmlns=\"http://www.w3.org/2000/svg\" height=\"24px\"viewBox=\"0 0 24 24\"\n",
              "       width=\"24px\">\n",
              "    <path d=\"M0 0h24v24H0V0z\" fill=\"none\"/>\n",
              "    <path d=\"M18.56 5.44l.94 2.06.94-2.06 2.06-.94-2.06-.94-.94-2.06-.94 2.06-2.06.94zm-11 1L8.5 8.5l.94-2.06 2.06-.94-2.06-.94L8.5 2.5l-.94 2.06-2.06.94zm10 10l.94 2.06.94-2.06 2.06-.94-2.06-.94-.94-2.06-.94 2.06-2.06.94z\"/><path d=\"M17.41 7.96l-1.37-1.37c-.4-.4-.92-.59-1.43-.59-.52 0-1.04.2-1.43.59L10.3 9.45l-7.72 7.72c-.78.78-.78 2.05 0 2.83L4 21.41c.39.39.9.59 1.41.59.51 0 1.02-.2 1.41-.59l7.78-7.78 2.81-2.81c.8-.78.8-2.07 0-2.86zM5.41 20L4 18.59l7.72-7.72 1.47 1.35L5.41 20z\"/>\n",
              "  </svg>\n",
              "      </button>\n",
              "      \n",
              "  <style>\n",
              "    .colab-df-container {\n",
              "      display:flex;\n",
              "      flex-wrap:wrap;\n",
              "      gap: 12px;\n",
              "    }\n",
              "\n",
              "    .colab-df-convert {\n",
              "      background-color: #E8F0FE;\n",
              "      border: none;\n",
              "      border-radius: 50%;\n",
              "      cursor: pointer;\n",
              "      display: none;\n",
              "      fill: #1967D2;\n",
              "      height: 32px;\n",
              "      padding: 0 0 0 0;\n",
              "      width: 32px;\n",
              "    }\n",
              "\n",
              "    .colab-df-convert:hover {\n",
              "      background-color: #E2EBFA;\n",
              "      box-shadow: 0px 1px 2px rgba(60, 64, 67, 0.3), 0px 1px 3px 1px rgba(60, 64, 67, 0.15);\n",
              "      fill: #174EA6;\n",
              "    }\n",
              "\n",
              "    [theme=dark] .colab-df-convert {\n",
              "      background-color: #3B4455;\n",
              "      fill: #D2E3FC;\n",
              "    }\n",
              "\n",
              "    [theme=dark] .colab-df-convert:hover {\n",
              "      background-color: #434B5C;\n",
              "      box-shadow: 0px 1px 3px 1px rgba(0, 0, 0, 0.15);\n",
              "      filter: drop-shadow(0px 1px 2px rgba(0, 0, 0, 0.3));\n",
              "      fill: #FFFFFF;\n",
              "    }\n",
              "  </style>\n",
              "\n",
              "      <script>\n",
              "        const buttonEl =\n",
              "          document.querySelector('#df-506daecf-7f67-402e-a2fa-a7df033d6556 button.colab-df-convert');\n",
              "        buttonEl.style.display =\n",
              "          google.colab.kernel.accessAllowed ? 'block' : 'none';\n",
              "\n",
              "        async function convertToInteractive(key) {\n",
              "          const element = document.querySelector('#df-506daecf-7f67-402e-a2fa-a7df033d6556');\n",
              "          const dataTable =\n",
              "            await google.colab.kernel.invokeFunction('convertToInteractive',\n",
              "                                                     [key], {});\n",
              "          if (!dataTable) return;\n",
              "\n",
              "          const docLinkHtml = 'Like what you see? Visit the ' +\n",
              "            '<a target=\"_blank\" href=https://colab.research.google.com/notebooks/data_table.ipynb>data table notebook</a>'\n",
              "            + ' to learn more about interactive tables.';\n",
              "          element.innerHTML = '';\n",
              "          dataTable['output_type'] = 'display_data';\n",
              "          await google.colab.output.renderOutput(dataTable, element);\n",
              "          const docLink = document.createElement('div');\n",
              "          docLink.innerHTML = docLinkHtml;\n",
              "          element.appendChild(docLink);\n",
              "        }\n",
              "      </script>\n",
              "    </div>\n",
              "  </div>\n",
              "  "
            ]
          },
          "metadata": {},
          "execution_count": 61
        }
      ]
    },
    {
      "cell_type": "code",
      "source": [
        "df_taxis.dtypes"
      ],
      "metadata": {
        "colab": {
          "base_uri": "https://localhost:8080/"
        },
        "id": "OYWYAgT-QhHT",
        "outputId": "170ebf65-2561-42a3-d640-cbe72107fe2d"
      },
      "execution_count": 62,
      "outputs": [
        {
          "output_type": "execute_result",
          "data": {
            "text/plain": [
              "pickup                     object\n",
              "dropoff                    object\n",
              "passengers                  int64\n",
              "distance                  float64\n",
              "fare                      float64\n",
              "tip                       float64\n",
              "tolls                     float64\n",
              "total                     float64\n",
              "color                      object\n",
              "payment                    object\n",
              "pickup_zone                object\n",
              "dropoff_zone               object\n",
              "pickup_borough             object\n",
              "dropoff_borough            object\n",
              "pickup_time        datetime64[ns]\n",
              "dtype: object"
            ]
          },
          "metadata": {},
          "execution_count": 62
        }
      ]
    },
    {
      "cell_type": "markdown",
      "source": [
        "9. Create a subset of the dataframe to create a new DataFrame, taxis_one_day. This new DataFrame should have pickup_time values between '2019-03-23 00:06:00' (inclusive) and '2019-03-24 00:00:00' (exlusive)."
      ],
      "metadata": {
        "id": "f7rfz-d2cSRe"
      }
    },
    {
      "cell_type": "code",
      "source": [
        "df_taxis.query(\"pickup_time >= '2019-03-23 00:06:00' and pickup_time <= '2019-03-24 00:00:00'\")"
      ],
      "metadata": {
        "id": "AfcUTYPVbjAK",
        "colab": {
          "base_uri": "https://localhost:8080/",
          "height": 424
        },
        "outputId": "dd17ecb3-1631-465f-d48d-18924f073db5"
      },
      "execution_count": 63,
      "outputs": [
        {
          "output_type": "execute_result",
          "data": {
            "text/plain": [
              "                   pickup              dropoff  passengers  distance  fare  \\\n",
              "0     2019-03-23 20:21:09  2019-03-23 20:27:24           1      1.60   7.0   \n",
              "8     2019-03-23 11:48:50  2019-03-23 12:06:14           1      3.63  15.0   \n",
              "17    2019-03-23 20:50:49  2019-03-23 21:02:07           1      2.60  10.5   \n",
              "117   2019-03-23 09:39:25  2019-03-23 09:56:45           0      3.60  15.5   \n",
              "144   2019-03-23 18:35:01  2019-03-23 18:47:39           1      3.20  12.5   \n",
              "...                   ...                  ...         ...       ...   ...   \n",
              "6325  2019-03-23 20:52:40  2019-03-23 21:10:12           1      3.62  14.5   \n",
              "6331  2019-03-23 11:27:00  2019-03-23 12:20:11           1      7.67  28.0   \n",
              "6338  2019-03-23 18:05:38  2019-03-23 18:25:36           1      2.82  14.0   \n",
              "6427  2019-03-23 18:26:09  2019-03-23 18:49:12           1      7.07  20.0   \n",
              "6430  2019-03-23 22:55:18  2019-03-23 23:14:25           1      4.14  16.0   \n",
              "\n",
              "       tip  tolls  total   color      payment                     pickup_zone  \\\n",
              "0     2.15    0.0  12.95  yellow  credit card                 Lenox Hill West   \n",
              "8     1.00    0.0  19.30  yellow  credit card               East Harlem South   \n",
              "17    2.00    0.0  16.30  yellow  credit card                  Midtown Center   \n",
              "117   3.75    0.0  22.55  yellow  credit card                  Yorkville East   \n",
              "144   2.00    0.0  17.80  yellow  credit card             UN/Turtle Bay South   \n",
              "...    ...    ...    ...     ...          ...                             ...   \n",
              "6325  0.00    0.0  15.80   green         cash  Long Island City/Hunters Point   \n",
              "6331  0.00    0.0  28.00   green         cash                 Jackson Heights   \n",
              "6338  0.00    0.0  14.80   green  credit card              Claremont/Bathgate   \n",
              "6427  0.00    0.0  20.00   green         cash                     Parkchester   \n",
              "6430  0.00    0.0  17.30   green         cash             Crown Heights North   \n",
              "\n",
              "                      dropoff_zone pickup_borough dropoff_borough  \\\n",
              "0              UN/Turtle Bay South      Manhattan       Manhattan   \n",
              "8                   Midtown Center      Manhattan       Manhattan   \n",
              "17               East Harlem South      Manhattan       Manhattan   \n",
              "117   Penn Station/Madison Sq West      Manhattan       Manhattan   \n",
              "144                   East Village      Manhattan       Manhattan   \n",
              "...                            ...            ...             ...   \n",
              "6325                      Steinway         Queens          Queens   \n",
              "6331                       Maspeth         Queens          Queens   \n",
              "6338    Spuyten Duyvil/Kingsbridge          Bronx           Bronx   \n",
              "6427             East Harlem South          Bronx       Manhattan   \n",
              "6430                Bushwick North       Brooklyn        Brooklyn   \n",
              "\n",
              "             pickup_time  \n",
              "0    2019-03-23 20:21:09  \n",
              "8    2019-03-23 11:48:50  \n",
              "17   2019-03-23 20:50:49  \n",
              "117  2019-03-23 09:39:25  \n",
              "144  2019-03-23 18:35:01  \n",
              "...                  ...  \n",
              "6325 2019-03-23 20:52:40  \n",
              "6331 2019-03-23 11:27:00  \n",
              "6338 2019-03-23 18:05:38  \n",
              "6427 2019-03-23 18:26:09  \n",
              "6430 2019-03-23 22:55:18  \n",
              "\n",
              "[209 rows x 15 columns]"
            ],
            "text/html": [
              "\n",
              "  <div id=\"df-b7caea6c-95e9-4cc0-b5d6-3be20c31ed79\">\n",
              "    <div class=\"colab-df-container\">\n",
              "      <div>\n",
              "<style scoped>\n",
              "    .dataframe tbody tr th:only-of-type {\n",
              "        vertical-align: middle;\n",
              "    }\n",
              "\n",
              "    .dataframe tbody tr th {\n",
              "        vertical-align: top;\n",
              "    }\n",
              "\n",
              "    .dataframe thead th {\n",
              "        text-align: right;\n",
              "    }\n",
              "</style>\n",
              "<table border=\"1\" class=\"dataframe\">\n",
              "  <thead>\n",
              "    <tr style=\"text-align: right;\">\n",
              "      <th></th>\n",
              "      <th>pickup</th>\n",
              "      <th>dropoff</th>\n",
              "      <th>passengers</th>\n",
              "      <th>distance</th>\n",
              "      <th>fare</th>\n",
              "      <th>tip</th>\n",
              "      <th>tolls</th>\n",
              "      <th>total</th>\n",
              "      <th>color</th>\n",
              "      <th>payment</th>\n",
              "      <th>pickup_zone</th>\n",
              "      <th>dropoff_zone</th>\n",
              "      <th>pickup_borough</th>\n",
              "      <th>dropoff_borough</th>\n",
              "      <th>pickup_time</th>\n",
              "    </tr>\n",
              "  </thead>\n",
              "  <tbody>\n",
              "    <tr>\n",
              "      <th>0</th>\n",
              "      <td>2019-03-23 20:21:09</td>\n",
              "      <td>2019-03-23 20:27:24</td>\n",
              "      <td>1</td>\n",
              "      <td>1.60</td>\n",
              "      <td>7.0</td>\n",
              "      <td>2.15</td>\n",
              "      <td>0.0</td>\n",
              "      <td>12.95</td>\n",
              "      <td>yellow</td>\n",
              "      <td>credit card</td>\n",
              "      <td>Lenox Hill West</td>\n",
              "      <td>UN/Turtle Bay South</td>\n",
              "      <td>Manhattan</td>\n",
              "      <td>Manhattan</td>\n",
              "      <td>2019-03-23 20:21:09</td>\n",
              "    </tr>\n",
              "    <tr>\n",
              "      <th>8</th>\n",
              "      <td>2019-03-23 11:48:50</td>\n",
              "      <td>2019-03-23 12:06:14</td>\n",
              "      <td>1</td>\n",
              "      <td>3.63</td>\n",
              "      <td>15.0</td>\n",
              "      <td>1.00</td>\n",
              "      <td>0.0</td>\n",
              "      <td>19.30</td>\n",
              "      <td>yellow</td>\n",
              "      <td>credit card</td>\n",
              "      <td>East Harlem South</td>\n",
              "      <td>Midtown Center</td>\n",
              "      <td>Manhattan</td>\n",
              "      <td>Manhattan</td>\n",
              "      <td>2019-03-23 11:48:50</td>\n",
              "    </tr>\n",
              "    <tr>\n",
              "      <th>17</th>\n",
              "      <td>2019-03-23 20:50:49</td>\n",
              "      <td>2019-03-23 21:02:07</td>\n",
              "      <td>1</td>\n",
              "      <td>2.60</td>\n",
              "      <td>10.5</td>\n",
              "      <td>2.00</td>\n",
              "      <td>0.0</td>\n",
              "      <td>16.30</td>\n",
              "      <td>yellow</td>\n",
              "      <td>credit card</td>\n",
              "      <td>Midtown Center</td>\n",
              "      <td>East Harlem South</td>\n",
              "      <td>Manhattan</td>\n",
              "      <td>Manhattan</td>\n",
              "      <td>2019-03-23 20:50:49</td>\n",
              "    </tr>\n",
              "    <tr>\n",
              "      <th>117</th>\n",
              "      <td>2019-03-23 09:39:25</td>\n",
              "      <td>2019-03-23 09:56:45</td>\n",
              "      <td>0</td>\n",
              "      <td>3.60</td>\n",
              "      <td>15.5</td>\n",
              "      <td>3.75</td>\n",
              "      <td>0.0</td>\n",
              "      <td>22.55</td>\n",
              "      <td>yellow</td>\n",
              "      <td>credit card</td>\n",
              "      <td>Yorkville East</td>\n",
              "      <td>Penn Station/Madison Sq West</td>\n",
              "      <td>Manhattan</td>\n",
              "      <td>Manhattan</td>\n",
              "      <td>2019-03-23 09:39:25</td>\n",
              "    </tr>\n",
              "    <tr>\n",
              "      <th>144</th>\n",
              "      <td>2019-03-23 18:35:01</td>\n",
              "      <td>2019-03-23 18:47:39</td>\n",
              "      <td>1</td>\n",
              "      <td>3.20</td>\n",
              "      <td>12.5</td>\n",
              "      <td>2.00</td>\n",
              "      <td>0.0</td>\n",
              "      <td>17.80</td>\n",
              "      <td>yellow</td>\n",
              "      <td>credit card</td>\n",
              "      <td>UN/Turtle Bay South</td>\n",
              "      <td>East Village</td>\n",
              "      <td>Manhattan</td>\n",
              "      <td>Manhattan</td>\n",
              "      <td>2019-03-23 18:35:01</td>\n",
              "    </tr>\n",
              "    <tr>\n",
              "      <th>...</th>\n",
              "      <td>...</td>\n",
              "      <td>...</td>\n",
              "      <td>...</td>\n",
              "      <td>...</td>\n",
              "      <td>...</td>\n",
              "      <td>...</td>\n",
              "      <td>...</td>\n",
              "      <td>...</td>\n",
              "      <td>...</td>\n",
              "      <td>...</td>\n",
              "      <td>...</td>\n",
              "      <td>...</td>\n",
              "      <td>...</td>\n",
              "      <td>...</td>\n",
              "      <td>...</td>\n",
              "    </tr>\n",
              "    <tr>\n",
              "      <th>6325</th>\n",
              "      <td>2019-03-23 20:52:40</td>\n",
              "      <td>2019-03-23 21:10:12</td>\n",
              "      <td>1</td>\n",
              "      <td>3.62</td>\n",
              "      <td>14.5</td>\n",
              "      <td>0.00</td>\n",
              "      <td>0.0</td>\n",
              "      <td>15.80</td>\n",
              "      <td>green</td>\n",
              "      <td>cash</td>\n",
              "      <td>Long Island City/Hunters Point</td>\n",
              "      <td>Steinway</td>\n",
              "      <td>Queens</td>\n",
              "      <td>Queens</td>\n",
              "      <td>2019-03-23 20:52:40</td>\n",
              "    </tr>\n",
              "    <tr>\n",
              "      <th>6331</th>\n",
              "      <td>2019-03-23 11:27:00</td>\n",
              "      <td>2019-03-23 12:20:11</td>\n",
              "      <td>1</td>\n",
              "      <td>7.67</td>\n",
              "      <td>28.0</td>\n",
              "      <td>0.00</td>\n",
              "      <td>0.0</td>\n",
              "      <td>28.00</td>\n",
              "      <td>green</td>\n",
              "      <td>cash</td>\n",
              "      <td>Jackson Heights</td>\n",
              "      <td>Maspeth</td>\n",
              "      <td>Queens</td>\n",
              "      <td>Queens</td>\n",
              "      <td>2019-03-23 11:27:00</td>\n",
              "    </tr>\n",
              "    <tr>\n",
              "      <th>6338</th>\n",
              "      <td>2019-03-23 18:05:38</td>\n",
              "      <td>2019-03-23 18:25:36</td>\n",
              "      <td>1</td>\n",
              "      <td>2.82</td>\n",
              "      <td>14.0</td>\n",
              "      <td>0.00</td>\n",
              "      <td>0.0</td>\n",
              "      <td>14.80</td>\n",
              "      <td>green</td>\n",
              "      <td>credit card</td>\n",
              "      <td>Claremont/Bathgate</td>\n",
              "      <td>Spuyten Duyvil/Kingsbridge</td>\n",
              "      <td>Bronx</td>\n",
              "      <td>Bronx</td>\n",
              "      <td>2019-03-23 18:05:38</td>\n",
              "    </tr>\n",
              "    <tr>\n",
              "      <th>6427</th>\n",
              "      <td>2019-03-23 18:26:09</td>\n",
              "      <td>2019-03-23 18:49:12</td>\n",
              "      <td>1</td>\n",
              "      <td>7.07</td>\n",
              "      <td>20.0</td>\n",
              "      <td>0.00</td>\n",
              "      <td>0.0</td>\n",
              "      <td>20.00</td>\n",
              "      <td>green</td>\n",
              "      <td>cash</td>\n",
              "      <td>Parkchester</td>\n",
              "      <td>East Harlem South</td>\n",
              "      <td>Bronx</td>\n",
              "      <td>Manhattan</td>\n",
              "      <td>2019-03-23 18:26:09</td>\n",
              "    </tr>\n",
              "    <tr>\n",
              "      <th>6430</th>\n",
              "      <td>2019-03-23 22:55:18</td>\n",
              "      <td>2019-03-23 23:14:25</td>\n",
              "      <td>1</td>\n",
              "      <td>4.14</td>\n",
              "      <td>16.0</td>\n",
              "      <td>0.00</td>\n",
              "      <td>0.0</td>\n",
              "      <td>17.30</td>\n",
              "      <td>green</td>\n",
              "      <td>cash</td>\n",
              "      <td>Crown Heights North</td>\n",
              "      <td>Bushwick North</td>\n",
              "      <td>Brooklyn</td>\n",
              "      <td>Brooklyn</td>\n",
              "      <td>2019-03-23 22:55:18</td>\n",
              "    </tr>\n",
              "  </tbody>\n",
              "</table>\n",
              "<p>209 rows × 15 columns</p>\n",
              "</div>\n",
              "      <button class=\"colab-df-convert\" onclick=\"convertToInteractive('df-b7caea6c-95e9-4cc0-b5d6-3be20c31ed79')\"\n",
              "              title=\"Convert this dataframe to an interactive table.\"\n",
              "              style=\"display:none;\">\n",
              "        \n",
              "  <svg xmlns=\"http://www.w3.org/2000/svg\" height=\"24px\"viewBox=\"0 0 24 24\"\n",
              "       width=\"24px\">\n",
              "    <path d=\"M0 0h24v24H0V0z\" fill=\"none\"/>\n",
              "    <path d=\"M18.56 5.44l.94 2.06.94-2.06 2.06-.94-2.06-.94-.94-2.06-.94 2.06-2.06.94zm-11 1L8.5 8.5l.94-2.06 2.06-.94-2.06-.94L8.5 2.5l-.94 2.06-2.06.94zm10 10l.94 2.06.94-2.06 2.06-.94-2.06-.94-.94-2.06-.94 2.06-2.06.94z\"/><path d=\"M17.41 7.96l-1.37-1.37c-.4-.4-.92-.59-1.43-.59-.52 0-1.04.2-1.43.59L10.3 9.45l-7.72 7.72c-.78.78-.78 2.05 0 2.83L4 21.41c.39.39.9.59 1.41.59.51 0 1.02-.2 1.41-.59l7.78-7.78 2.81-2.81c.8-.78.8-2.07 0-2.86zM5.41 20L4 18.59l7.72-7.72 1.47 1.35L5.41 20z\"/>\n",
              "  </svg>\n",
              "      </button>\n",
              "      \n",
              "  <style>\n",
              "    .colab-df-container {\n",
              "      display:flex;\n",
              "      flex-wrap:wrap;\n",
              "      gap: 12px;\n",
              "    }\n",
              "\n",
              "    .colab-df-convert {\n",
              "      background-color: #E8F0FE;\n",
              "      border: none;\n",
              "      border-radius: 50%;\n",
              "      cursor: pointer;\n",
              "      display: none;\n",
              "      fill: #1967D2;\n",
              "      height: 32px;\n",
              "      padding: 0 0 0 0;\n",
              "      width: 32px;\n",
              "    }\n",
              "\n",
              "    .colab-df-convert:hover {\n",
              "      background-color: #E2EBFA;\n",
              "      box-shadow: 0px 1px 2px rgba(60, 64, 67, 0.3), 0px 1px 3px 1px rgba(60, 64, 67, 0.15);\n",
              "      fill: #174EA6;\n",
              "    }\n",
              "\n",
              "    [theme=dark] .colab-df-convert {\n",
              "      background-color: #3B4455;\n",
              "      fill: #D2E3FC;\n",
              "    }\n",
              "\n",
              "    [theme=dark] .colab-df-convert:hover {\n",
              "      background-color: #434B5C;\n",
              "      box-shadow: 0px 1px 3px 1px rgba(0, 0, 0, 0.15);\n",
              "      filter: drop-shadow(0px 1px 2px rgba(0, 0, 0, 0.3));\n",
              "      fill: #FFFFFF;\n",
              "    }\n",
              "  </style>\n",
              "\n",
              "      <script>\n",
              "        const buttonEl =\n",
              "          document.querySelector('#df-b7caea6c-95e9-4cc0-b5d6-3be20c31ed79 button.colab-df-convert');\n",
              "        buttonEl.style.display =\n",
              "          google.colab.kernel.accessAllowed ? 'block' : 'none';\n",
              "\n",
              "        async function convertToInteractive(key) {\n",
              "          const element = document.querySelector('#df-b7caea6c-95e9-4cc0-b5d6-3be20c31ed79');\n",
              "          const dataTable =\n",
              "            await google.colab.kernel.invokeFunction('convertToInteractive',\n",
              "                                                     [key], {});\n",
              "          if (!dataTable) return;\n",
              "\n",
              "          const docLinkHtml = 'Like what you see? Visit the ' +\n",
              "            '<a target=\"_blank\" href=https://colab.research.google.com/notebooks/data_table.ipynb>data table notebook</a>'\n",
              "            + ' to learn more about interactive tables.';\n",
              "          element.innerHTML = '';\n",
              "          dataTable['output_type'] = 'display_data';\n",
              "          await google.colab.output.renderOutput(dataTable, element);\n",
              "          const docLink = document.createElement('div');\n",
              "          docLink.innerHTML = docLinkHtml;\n",
              "          element.appendChild(docLink);\n",
              "        }\n",
              "      </script>\n",
              "    </div>\n",
              "  </div>\n",
              "  "
            ]
          },
          "metadata": {},
          "execution_count": 63
        }
      ]
    },
    {
      "cell_type": "markdown",
      "source": [
        "10. From the dataframe in Question 9, take the mean of the numeric columns, grouped at one hour intervals.  Save the result as df_means, and display it."
      ],
      "metadata": {
        "id": "k9ErqDN-cf84"
      }
    },
    {
      "cell_type": "code",
      "source": [
        "df_taxis_one_day = df_taxis.query(\"pickup_time >= '2019-03-23 00:06:00' and pickup_time <= '2019-03-24 00:00:00'\")\n",
        "df_taxis_one_day.groupby([df_taxis_one_day['pickup_time'].dt.hour]).mean()"
      ],
      "metadata": {
        "id": "Ul7rGs1bbjC8",
        "colab": {
          "base_uri": "https://localhost:8080/",
          "height": 833
        },
        "outputId": "415d4052-87e8-4af9-b5db-ba715606a891"
      },
      "execution_count": 64,
      "outputs": [
        {
          "output_type": "execute_result",
          "data": {
            "text/plain": [
              "             passengers  distance       fare       tip     tolls      total\n",
              "pickup_time                                                                \n",
              "0              1.000000  1.911667   8.583333  1.415000  0.000000  12.965000\n",
              "1              1.250000  1.325000   7.875000  1.525000  0.000000  12.575000\n",
              "2              1.727273  1.739091   8.181818  1.641818  0.000000  13.169091\n",
              "3              1.500000  3.377500  11.750000  2.410000  0.000000  17.335000\n",
              "4              2.000000  0.950000   5.500000  0.915000  0.000000  10.215000\n",
              "5              2.000000  1.270000   6.000000  0.980000  0.000000  10.530000\n",
              "6              1.000000  0.400000  21.500000  0.000000  0.000000  23.133333\n",
              "7              2.333333  0.980000   5.250000  1.165000  0.000000   9.298333\n",
              "8              1.000000  0.020000   2.500000  0.000000  0.000000   3.300000\n",
              "9              1.500000  1.352000   7.400000  1.674000  0.000000  12.124000\n",
              "10             1.000000  1.760000   8.750000  0.727500  0.000000  12.152500\n",
              "11             1.909091  2.070000  11.090909  0.803636  0.000000  14.667273\n",
              "12             2.000000  2.267143  10.260000  0.645714  0.000000  13.420000\n",
              "13             2.500000  1.167000   7.550000  2.074000  0.000000  12.344000\n",
              "14             2.470588  4.752941  18.330000  1.945294  1.003529  24.267059\n",
              "15             1.000000  6.557143  22.214286  3.210000  1.645714  30.370000\n",
              "16             2.000000  2.194545  10.454545  1.109091  0.000000  14.431818\n",
              "17             1.090909  1.913636  14.818182  2.688182  0.523636  20.739091\n",
              "18             1.571429  3.206429  12.821429  0.844286  0.411429  16.427143\n",
              "19             1.526316  2.097895  10.263158  1.176316  0.000000  14.226316\n",
              "20             1.400000  2.448000  11.100000  1.544000  0.000000  15.944000\n",
              "21             1.000000  2.017143  10.571429  1.420000  0.000000  15.791429\n",
              "22             1.307692  1.881538   8.923077  1.094615  0.000000  13.433077\n",
              "23             1.615385  3.725385  15.115385  1.696154  0.000000  20.034615"
            ],
            "text/html": [
              "\n",
              "  <div id=\"df-efc3aa40-2733-47a8-8336-f3e9e6e7098b\">\n",
              "    <div class=\"colab-df-container\">\n",
              "      <div>\n",
              "<style scoped>\n",
              "    .dataframe tbody tr th:only-of-type {\n",
              "        vertical-align: middle;\n",
              "    }\n",
              "\n",
              "    .dataframe tbody tr th {\n",
              "        vertical-align: top;\n",
              "    }\n",
              "\n",
              "    .dataframe thead th {\n",
              "        text-align: right;\n",
              "    }\n",
              "</style>\n",
              "<table border=\"1\" class=\"dataframe\">\n",
              "  <thead>\n",
              "    <tr style=\"text-align: right;\">\n",
              "      <th></th>\n",
              "      <th>passengers</th>\n",
              "      <th>distance</th>\n",
              "      <th>fare</th>\n",
              "      <th>tip</th>\n",
              "      <th>tolls</th>\n",
              "      <th>total</th>\n",
              "    </tr>\n",
              "    <tr>\n",
              "      <th>pickup_time</th>\n",
              "      <th></th>\n",
              "      <th></th>\n",
              "      <th></th>\n",
              "      <th></th>\n",
              "      <th></th>\n",
              "      <th></th>\n",
              "    </tr>\n",
              "  </thead>\n",
              "  <tbody>\n",
              "    <tr>\n",
              "      <th>0</th>\n",
              "      <td>1.000000</td>\n",
              "      <td>1.911667</td>\n",
              "      <td>8.583333</td>\n",
              "      <td>1.415000</td>\n",
              "      <td>0.000000</td>\n",
              "      <td>12.965000</td>\n",
              "    </tr>\n",
              "    <tr>\n",
              "      <th>1</th>\n",
              "      <td>1.250000</td>\n",
              "      <td>1.325000</td>\n",
              "      <td>7.875000</td>\n",
              "      <td>1.525000</td>\n",
              "      <td>0.000000</td>\n",
              "      <td>12.575000</td>\n",
              "    </tr>\n",
              "    <tr>\n",
              "      <th>2</th>\n",
              "      <td>1.727273</td>\n",
              "      <td>1.739091</td>\n",
              "      <td>8.181818</td>\n",
              "      <td>1.641818</td>\n",
              "      <td>0.000000</td>\n",
              "      <td>13.169091</td>\n",
              "    </tr>\n",
              "    <tr>\n",
              "      <th>3</th>\n",
              "      <td>1.500000</td>\n",
              "      <td>3.377500</td>\n",
              "      <td>11.750000</td>\n",
              "      <td>2.410000</td>\n",
              "      <td>0.000000</td>\n",
              "      <td>17.335000</td>\n",
              "    </tr>\n",
              "    <tr>\n",
              "      <th>4</th>\n",
              "      <td>2.000000</td>\n",
              "      <td>0.950000</td>\n",
              "      <td>5.500000</td>\n",
              "      <td>0.915000</td>\n",
              "      <td>0.000000</td>\n",
              "      <td>10.215000</td>\n",
              "    </tr>\n",
              "    <tr>\n",
              "      <th>5</th>\n",
              "      <td>2.000000</td>\n",
              "      <td>1.270000</td>\n",
              "      <td>6.000000</td>\n",
              "      <td>0.980000</td>\n",
              "      <td>0.000000</td>\n",
              "      <td>10.530000</td>\n",
              "    </tr>\n",
              "    <tr>\n",
              "      <th>6</th>\n",
              "      <td>1.000000</td>\n",
              "      <td>0.400000</td>\n",
              "      <td>21.500000</td>\n",
              "      <td>0.000000</td>\n",
              "      <td>0.000000</td>\n",
              "      <td>23.133333</td>\n",
              "    </tr>\n",
              "    <tr>\n",
              "      <th>7</th>\n",
              "      <td>2.333333</td>\n",
              "      <td>0.980000</td>\n",
              "      <td>5.250000</td>\n",
              "      <td>1.165000</td>\n",
              "      <td>0.000000</td>\n",
              "      <td>9.298333</td>\n",
              "    </tr>\n",
              "    <tr>\n",
              "      <th>8</th>\n",
              "      <td>1.000000</td>\n",
              "      <td>0.020000</td>\n",
              "      <td>2.500000</td>\n",
              "      <td>0.000000</td>\n",
              "      <td>0.000000</td>\n",
              "      <td>3.300000</td>\n",
              "    </tr>\n",
              "    <tr>\n",
              "      <th>9</th>\n",
              "      <td>1.500000</td>\n",
              "      <td>1.352000</td>\n",
              "      <td>7.400000</td>\n",
              "      <td>1.674000</td>\n",
              "      <td>0.000000</td>\n",
              "      <td>12.124000</td>\n",
              "    </tr>\n",
              "    <tr>\n",
              "      <th>10</th>\n",
              "      <td>1.000000</td>\n",
              "      <td>1.760000</td>\n",
              "      <td>8.750000</td>\n",
              "      <td>0.727500</td>\n",
              "      <td>0.000000</td>\n",
              "      <td>12.152500</td>\n",
              "    </tr>\n",
              "    <tr>\n",
              "      <th>11</th>\n",
              "      <td>1.909091</td>\n",
              "      <td>2.070000</td>\n",
              "      <td>11.090909</td>\n",
              "      <td>0.803636</td>\n",
              "      <td>0.000000</td>\n",
              "      <td>14.667273</td>\n",
              "    </tr>\n",
              "    <tr>\n",
              "      <th>12</th>\n",
              "      <td>2.000000</td>\n",
              "      <td>2.267143</td>\n",
              "      <td>10.260000</td>\n",
              "      <td>0.645714</td>\n",
              "      <td>0.000000</td>\n",
              "      <td>13.420000</td>\n",
              "    </tr>\n",
              "    <tr>\n",
              "      <th>13</th>\n",
              "      <td>2.500000</td>\n",
              "      <td>1.167000</td>\n",
              "      <td>7.550000</td>\n",
              "      <td>2.074000</td>\n",
              "      <td>0.000000</td>\n",
              "      <td>12.344000</td>\n",
              "    </tr>\n",
              "    <tr>\n",
              "      <th>14</th>\n",
              "      <td>2.470588</td>\n",
              "      <td>4.752941</td>\n",
              "      <td>18.330000</td>\n",
              "      <td>1.945294</td>\n",
              "      <td>1.003529</td>\n",
              "      <td>24.267059</td>\n",
              "    </tr>\n",
              "    <tr>\n",
              "      <th>15</th>\n",
              "      <td>1.000000</td>\n",
              "      <td>6.557143</td>\n",
              "      <td>22.214286</td>\n",
              "      <td>3.210000</td>\n",
              "      <td>1.645714</td>\n",
              "      <td>30.370000</td>\n",
              "    </tr>\n",
              "    <tr>\n",
              "      <th>16</th>\n",
              "      <td>2.000000</td>\n",
              "      <td>2.194545</td>\n",
              "      <td>10.454545</td>\n",
              "      <td>1.109091</td>\n",
              "      <td>0.000000</td>\n",
              "      <td>14.431818</td>\n",
              "    </tr>\n",
              "    <tr>\n",
              "      <th>17</th>\n",
              "      <td>1.090909</td>\n",
              "      <td>1.913636</td>\n",
              "      <td>14.818182</td>\n",
              "      <td>2.688182</td>\n",
              "      <td>0.523636</td>\n",
              "      <td>20.739091</td>\n",
              "    </tr>\n",
              "    <tr>\n",
              "      <th>18</th>\n",
              "      <td>1.571429</td>\n",
              "      <td>3.206429</td>\n",
              "      <td>12.821429</td>\n",
              "      <td>0.844286</td>\n",
              "      <td>0.411429</td>\n",
              "      <td>16.427143</td>\n",
              "    </tr>\n",
              "    <tr>\n",
              "      <th>19</th>\n",
              "      <td>1.526316</td>\n",
              "      <td>2.097895</td>\n",
              "      <td>10.263158</td>\n",
              "      <td>1.176316</td>\n",
              "      <td>0.000000</td>\n",
              "      <td>14.226316</td>\n",
              "    </tr>\n",
              "    <tr>\n",
              "      <th>20</th>\n",
              "      <td>1.400000</td>\n",
              "      <td>2.448000</td>\n",
              "      <td>11.100000</td>\n",
              "      <td>1.544000</td>\n",
              "      <td>0.000000</td>\n",
              "      <td>15.944000</td>\n",
              "    </tr>\n",
              "    <tr>\n",
              "      <th>21</th>\n",
              "      <td>1.000000</td>\n",
              "      <td>2.017143</td>\n",
              "      <td>10.571429</td>\n",
              "      <td>1.420000</td>\n",
              "      <td>0.000000</td>\n",
              "      <td>15.791429</td>\n",
              "    </tr>\n",
              "    <tr>\n",
              "      <th>22</th>\n",
              "      <td>1.307692</td>\n",
              "      <td>1.881538</td>\n",
              "      <td>8.923077</td>\n",
              "      <td>1.094615</td>\n",
              "      <td>0.000000</td>\n",
              "      <td>13.433077</td>\n",
              "    </tr>\n",
              "    <tr>\n",
              "      <th>23</th>\n",
              "      <td>1.615385</td>\n",
              "      <td>3.725385</td>\n",
              "      <td>15.115385</td>\n",
              "      <td>1.696154</td>\n",
              "      <td>0.000000</td>\n",
              "      <td>20.034615</td>\n",
              "    </tr>\n",
              "  </tbody>\n",
              "</table>\n",
              "</div>\n",
              "      <button class=\"colab-df-convert\" onclick=\"convertToInteractive('df-efc3aa40-2733-47a8-8336-f3e9e6e7098b')\"\n",
              "              title=\"Convert this dataframe to an interactive table.\"\n",
              "              style=\"display:none;\">\n",
              "        \n",
              "  <svg xmlns=\"http://www.w3.org/2000/svg\" height=\"24px\"viewBox=\"0 0 24 24\"\n",
              "       width=\"24px\">\n",
              "    <path d=\"M0 0h24v24H0V0z\" fill=\"none\"/>\n",
              "    <path d=\"M18.56 5.44l.94 2.06.94-2.06 2.06-.94-2.06-.94-.94-2.06-.94 2.06-2.06.94zm-11 1L8.5 8.5l.94-2.06 2.06-.94-2.06-.94L8.5 2.5l-.94 2.06-2.06.94zm10 10l.94 2.06.94-2.06 2.06-.94-2.06-.94-.94-2.06-.94 2.06-2.06.94z\"/><path d=\"M17.41 7.96l-1.37-1.37c-.4-.4-.92-.59-1.43-.59-.52 0-1.04.2-1.43.59L10.3 9.45l-7.72 7.72c-.78.78-.78 2.05 0 2.83L4 21.41c.39.39.9.59 1.41.59.51 0 1.02-.2 1.41-.59l7.78-7.78 2.81-2.81c.8-.78.8-2.07 0-2.86zM5.41 20L4 18.59l7.72-7.72 1.47 1.35L5.41 20z\"/>\n",
              "  </svg>\n",
              "      </button>\n",
              "      \n",
              "  <style>\n",
              "    .colab-df-container {\n",
              "      display:flex;\n",
              "      flex-wrap:wrap;\n",
              "      gap: 12px;\n",
              "    }\n",
              "\n",
              "    .colab-df-convert {\n",
              "      background-color: #E8F0FE;\n",
              "      border: none;\n",
              "      border-radius: 50%;\n",
              "      cursor: pointer;\n",
              "      display: none;\n",
              "      fill: #1967D2;\n",
              "      height: 32px;\n",
              "      padding: 0 0 0 0;\n",
              "      width: 32px;\n",
              "    }\n",
              "\n",
              "    .colab-df-convert:hover {\n",
              "      background-color: #E2EBFA;\n",
              "      box-shadow: 0px 1px 2px rgba(60, 64, 67, 0.3), 0px 1px 3px 1px rgba(60, 64, 67, 0.15);\n",
              "      fill: #174EA6;\n",
              "    }\n",
              "\n",
              "    [theme=dark] .colab-df-convert {\n",
              "      background-color: #3B4455;\n",
              "      fill: #D2E3FC;\n",
              "    }\n",
              "\n",
              "    [theme=dark] .colab-df-convert:hover {\n",
              "      background-color: #434B5C;\n",
              "      box-shadow: 0px 1px 3px 1px rgba(0, 0, 0, 0.15);\n",
              "      filter: drop-shadow(0px 1px 2px rgba(0, 0, 0, 0.3));\n",
              "      fill: #FFFFFF;\n",
              "    }\n",
              "  </style>\n",
              "\n",
              "      <script>\n",
              "        const buttonEl =\n",
              "          document.querySelector('#df-efc3aa40-2733-47a8-8336-f3e9e6e7098b button.colab-df-convert');\n",
              "        buttonEl.style.display =\n",
              "          google.colab.kernel.accessAllowed ? 'block' : 'none';\n",
              "\n",
              "        async function convertToInteractive(key) {\n",
              "          const element = document.querySelector('#df-efc3aa40-2733-47a8-8336-f3e9e6e7098b');\n",
              "          const dataTable =\n",
              "            await google.colab.kernel.invokeFunction('convertToInteractive',\n",
              "                                                     [key], {});\n",
              "          if (!dataTable) return;\n",
              "\n",
              "          const docLinkHtml = 'Like what you see? Visit the ' +\n",
              "            '<a target=\"_blank\" href=https://colab.research.google.com/notebooks/data_table.ipynb>data table notebook</a>'\n",
              "            + ' to learn more about interactive tables.';\n",
              "          element.innerHTML = '';\n",
              "          dataTable['output_type'] = 'display_data';\n",
              "          await google.colab.output.renderOutput(dataTable, element);\n",
              "          const docLink = document.createElement('div');\n",
              "          docLink.innerHTML = docLinkHtml;\n",
              "          element.appendChild(docLink);\n",
              "        }\n",
              "      </script>\n",
              "    </div>\n",
              "  </div>\n",
              "  "
            ]
          },
          "metadata": {},
          "execution_count": 64
        }
      ]
    },
    {
      "cell_type": "markdown",
      "source": [
        "Check https://colab.research.google.com/github/CodeSolid/CodeSolid.github.io/blob/main/booksource/exercises/PandasExercises.ipynb for more Pandas exercises."
      ],
      "metadata": {
        "id": "gGLHwogaZX0-"
      }
    },
    {
      "cell_type": "code",
      "source": [],
      "metadata": {
        "id": "Yag0a9H7ZbQe"
      },
      "execution_count": null,
      "outputs": []
    }
  ]
}
