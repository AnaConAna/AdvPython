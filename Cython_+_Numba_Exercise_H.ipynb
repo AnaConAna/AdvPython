{
  "nbformat": 4,
  "nbformat_minor": 0,
  "metadata": {
    "colab": {
      "provenance": [],
      "collapsed_sections": []
    },
    "kernelspec": {
      "name": "python3",
      "display_name": "Python 3"
    },
    "language_info": {
      "name": "python"
    }
  },
  "cells": [
    {
      "cell_type": "markdown",
      "source": [
        "Exercise is meant for you to experiment with cython and numba to see how much efficiency can be obtained by using these two tools"
      ],
      "metadata": {
        "id": "W8HrmHj7LN1y"
      }
    },
    {
      "cell_type": "code",
      "source": [
        "import numpy as np\n",
        "import seaborn as sb\n",
        "import pandas as pd"
      ],
      "metadata": {
        "id": "iv3vfpzxQisM"
      },
      "execution_count": 1,
      "outputs": []
    },
    {
      "cell_type": "code",
      "source": [
        "class Particle:\n",
        "  def __init__(self, x, y, ang_speed):\n",
        "    self.x = x\n",
        "    self.y = y\n",
        "    self.ang_speed = ang_speed"
      ],
      "metadata": {
        "id": "duLFBDZPPheC"
      },
      "execution_count": 2,
      "outputs": []
    },
    {
      "cell_type": "code",
      "execution_count": 3,
      "metadata": {
        "id": "eoSyUNXJCZB-"
      },
      "outputs": [],
      "source": [
        "def evolve_wrapper(dt, particles):\n",
        "  timestep = 1\n",
        "  nsteps = int(dt/timestep)\n",
        "  r_i = np.array([[p.x, p.y] for p in particles])\n",
        "  ang_speed = np.array([p.ang_speed for p in particles])\n",
        "  evolve(r_i, ang_speed, timestep, nsteps)\n",
        "\n",
        "  for i, p in enumerate(particles):\n",
        "    p.x, p.y = r_i[i]\n",
        "\n",
        "def evolve(r_i, ang_speed, timestep, nsteps):\n",
        "  v_i = np.empty_like(r_i)\n",
        "  for i in range(nsteps):\n",
        "    norm_i = np.sqrt((r_i ** 2).sum(axis=1))\n",
        "    v_i = r_i[:, [1,0]]\n",
        "    v_i[:, 0] *= -1\n",
        "    v_i /= norm_i[:, np.newaxis]\n",
        "    d_i = timestep * ang_speed[:, np.newaxis] * v_i\n",
        "\n",
        "    r_i += d_i"
      ]
    },
    {
      "cell_type": "code",
      "source": [
        "n_particle = 100\n",
        "coord = np.random.randn(n_particle, 3)\n",
        "particles = []\n",
        "for i in range(0, n_particle):\n",
        "  particles.append(Particle(coord[i][0], coord[i][1], coord[i][2]))"
      ],
      "metadata": {
        "id": "H6YiZC1qV6PI"
      },
      "execution_count": 4,
      "outputs": []
    },
    {
      "cell_type": "code",
      "source": [
        "sb.scatterplot(x='x', y='y', data=pd.DataFrame([[p.x,p.y] for p in particles],columns = ['x', 'y']))"
      ],
      "metadata": {
        "colab": {
          "base_uri": "https://localhost:8080/",
          "height": 296
        },
        "id": "Q6ZsQRA0bM_X",
        "outputId": "6dab1a26-e414-4669-8ecf-8151d3fb7c75"
      },
      "execution_count": 28,
      "outputs": [
        {
          "output_type": "execute_result",
          "data": {
            "text/plain": [
              "<matplotlib.axes._subplots.AxesSubplot at 0x7fea7e4a0c10>"
            ]
          },
          "metadata": {},
          "execution_count": 28
        },
        {
          "output_type": "display_data",
          "data": {
            "text/plain": [
              "<Figure size 432x288 with 1 Axes>"
            ],
            "image/png": "[encoded data removed]"
          },
          "metadata": {
            "needs_background": "light"
          }
        }
      ]
    },
    {
      "cell_type": "code",
      "source": [
        "evolve_wrapper(1, particles)"
      ],
      "metadata": {
        "id": "OecxMgYKbppR"
      },
      "execution_count": 29,
      "outputs": []
    },
    {
      "cell_type": "code",
      "source": [
        "sb.scatterplot(x='x', y='y', data=pd.DataFrame([[p.x,p.y] for p in particles],columns = ['x', 'y']))"
      ],
      "metadata": {
        "colab": {
          "base_uri": "https://localhost:8080/",
          "height": 296
        },
        "id": "Pwr0aCHXblyO",
        "outputId": "5d522546-744d-4ee0-eb39-3f28e02ed5fe"
      },
      "execution_count": 30,
      "outputs": [
        {
          "output_type": "execute_result",
          "data": {
            "text/plain": [
              "<matplotlib.axes._subplots.AxesSubplot at 0x7fea7d48a450>"
            ]
          },
          "metadata": {},
          "execution_count": 30
        },
        {
          "output_type": "display_data",
          "data": {
            "text/plain": [
              "<Figure size 432x288 with 1 Axes>"
            ],
            "image/png": "[encoded data removed]"
          },
          "metadata": {
            "needs_background": "light"
          }
        }
      ]
    },
    {
      "cell_type": "code",
      "source": [
        "%timeit evolve_wrapper(1, particles)"
      ],
      "metadata": {
        "colab": {
          "base_uri": "https://localhost:8080/"
        },
        "id": "ozTW98facEM6",
        "outputId": "bedbc7c3-38bc-4cda-f520-d7376aa9194e"
      },
      "execution_count": 35,
      "outputs": [
        {
          "output_type": "stream",
          "name": "stdout",
          "text": [
            "312 µs ± 12.1 µs per loop (mean ± std. dev. of 7 runs, 1000 loops each)\n"
          ]
        }
      ]
    },
    {
      "cell_type": "markdown",
      "source": [
        "Can you rewrite the evolve method to make it faster?"
      ],
      "metadata": {
        "id": "LeOasafdcAjl"
      }
    },
    {
      "cell_type": "code",
      "source": [
        "%load_ext Cython"
      ],
      "metadata": {
        "colab": {
          "base_uri": "https://localhost:8080/"
        },
        "id": "zI9lBfL-aZSO",
        "outputId": "6f2e635f-3a38-45fd-8a17-7d58dc713329"
      },
      "execution_count": 11,
      "outputs": [
        {
          "output_type": "stream",
          "name": "stdout",
          "text": [
            "The Cython extension is already loaded. To reload it, use:\n",
            "  %reload_ext Cython\n"
          ]
        }
      ]
    },
    {
      "cell_type": "code",
      "source": [
        "%%cython\n",
        "cimport cython\n",
        "cimport numpy as c_np\n",
        "import numpy as np\n",
        "from libc cimport math\n",
        "\n",
        "cdef c_evolve(double[:,:] r_i, double[:] ang_speed, double timestep, int nsteps):\n",
        "  cdef int i, j\n",
        "  cdef int n = r_i.shape[0]\n",
        "  cdef double x, y, vx, vy, norm\n",
        "  for i in range(nsteps):\n",
        "    for j in range(n):\n",
        "      x, y = r_i[j]\n",
        "      norm = math.sqrt(x**2 + y**2)\n",
        "      with cython.cdivision(True):\n",
        "        vx, vy = -y/norm, x/norm\n",
        "      r_i[j, 0] += timestep * ang_speed[j] * vx\n",
        "      r_i[j, 1] += timestep * ang_speed[j] * vy \n",
        "\n",
        "def c_evolve_wrapper(dt, particles):\n",
        "  timestep = 1\n",
        "  nsteps = int(dt/timestep)\n",
        "  r_i = np.array([[p.x, p.y] for p in particles])\n",
        "  ang_speed = np.array([p.ang_speed for p in particles])\n",
        "  c_evolve(r_i, ang_speed, timestep, nsteps)\n",
        "\n",
        "  for i, p in enumerate(particles):\n",
        "    p.x, p.y = r_i[i]"
      ],
      "metadata": {
        "id": "KrKW5jHOaexA"
      },
      "execution_count": 40,
      "outputs": []
    },
    {
      "cell_type": "code",
      "source": [
        "sb.scatterplot(x='x', y='y', data=pd.DataFrame([[p.x,p.y] for p in particles],columns = ['x', 'y']))"
      ],
      "metadata": {
        "colab": {
          "base_uri": "https://localhost:8080/",
          "height": 296
        },
        "id": "NMY7Mb9NfhIx",
        "outputId": "ea7155a4-8577-4b00-a5e7-45a230512efb"
      },
      "execution_count": 41,
      "outputs": [
        {
          "output_type": "execute_result",
          "data": {
            "text/plain": [
              "<matplotlib.axes._subplots.AxesSubplot at 0x7fea7f965910>"
            ]
          },
          "metadata": {},
          "execution_count": 41
        },
        {
          "output_type": "display_data",
          "data": {
            "text/plain": [
              "<Figure size 432x288 with 1 Axes>"
            ],
            "image/png": "[encoded data removed]"
          },
          "metadata": {
            "needs_background": "light"
          }
        }
      ]
    },
    {
      "cell_type": "code",
      "source": [
        "c_evolve_wrapper(10, particles)\n",
        "sb.scatterplot(x='x', y='y', data=pd.DataFrame([[p.x,p.y] for p in particles],columns = ['x', 'y']))"
      ],
      "metadata": {
        "colab": {
          "base_uri": "https://localhost:8080/",
          "height": 296
        },
        "id": "xkOFat_WfUf6",
        "outputId": "97aaf2b0-8fd5-4672-c6bc-cb37708ff309"
      },
      "execution_count": 42,
      "outputs": [
        {
          "output_type": "execute_result",
          "data": {
            "text/plain": [
              "<matplotlib.axes._subplots.AxesSubplot at 0x7fea7e204c10>"
            ]
          },
          "metadata": {},
          "execution_count": 42
        },
        {
          "output_type": "display_data",
          "data": {
            "text/plain": [
              "<Figure size 432x288 with 1 Axes>"
            ],
            "image/png": "[encoded data removed]"
          },
          "metadata": {
            "needs_background": "light"
          }
        }
      ]
    },
    {
      "cell_type": "code",
      "source": [
        "%timeit -n 1000 c_evolve_wrapper(1, particles)"
      ],
      "metadata": {
        "colab": {
          "base_uri": "https://localhost:8080/"
        },
        "id": "AgMzTxL_enSw",
        "outputId": "f6c37595-8e48-4ba2-86a6-734fd64f5564"
      },
      "execution_count": 43,
      "outputs": [
        {
          "output_type": "stream",
          "name": "stdout",
          "text": [
            "356 µs ± 15.6 µs per loop (mean ± std. dev. of 7 runs, 1000 loops each)\n"
          ]
        }
      ]
    }
  ]
}